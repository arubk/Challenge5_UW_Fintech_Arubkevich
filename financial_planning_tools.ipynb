{
 "cells": [
  {
   "cell_type": "markdown",
   "metadata": {},
   "source": [
    "# Financial Planning with APIs and Simulations\n",
    "\n",
    "In this Challenge, you’ll create two financial analysis tools by using a single Jupyter notebook:\n",
    "\n",
    "Part 1: A financial planner for emergencies. The members will be able to use this tool to visualize their current savings. The members can then determine if they have enough reserves for an emergency fund.\n",
    "\n",
    "Part 2: A financial planner for retirement. This tool will forecast the performance of their retirement portfolio in 30 years. To do this, the tool will make an Alpaca API call via the Alpaca SDK to get historical price data for use in Monte Carlo simulations.\n",
    "\n",
    "You’ll use the information from the Monte Carlo simulation to answer questions about the portfolio in your Jupyter notebook.\n",
    "\n"
   ]
  },
  {
   "cell_type": "code",
   "execution_count": 1,
   "metadata": {},
   "outputs": [],
   "source": [
    "# Import the required libraries and dependencies\n",
    "import os\n",
    "import requests\n",
    "import json\n",
    "import pandas as pd\n",
    "from dotenv import load_dotenv\n",
    "import alpaca_trade_api as tradeapi\n",
    "from MCForecastTools import MCSimulation\n",
    "\n",
    "%matplotlib inline"
   ]
  },
  {
   "cell_type": "code",
   "execution_count": 2,
   "metadata": {},
   "outputs": [
    {
     "data": {
      "text/plain": [
       "True"
      ]
     },
     "execution_count": 2,
     "metadata": {},
     "output_type": "execute_result"
    }
   ],
   "source": [
    "# Load the environment variables from the .env file\n",
    "#by calling the load_dotenv function\n",
    "load_dotenv()"
   ]
  },
  {
   "cell_type": "markdown",
   "metadata": {},
   "source": [
    "## Part 1: Create a Financial Planner for Emergencies"
   ]
  },
  {
   "cell_type": "markdown",
   "metadata": {},
   "source": [
    "### Evaluate the Cryptocurrency Wallet by Using the Requests Library\n",
    "\n",
    "In this section, you’ll determine the current value of a member’s cryptocurrency wallet. You’ll collect the current prices for the Bitcoin and Ethereum cryptocurrencies by using the Python Requests library. For the prototype, you’ll assume that the member holds the 1.2 Bitcoins (BTC) and 5.3 Ethereum coins (ETH). To do all this, complete the following steps:\n",
    "\n",
    "1. Create a variable named `monthly_income`, and set its value to `12000`.\n",
    "\n",
    "2. Use the Requests library to get the current price (in US dollars) of Bitcoin (BTC) and Ethereum (ETH) by using the API endpoints that the starter code supplies.\n",
    "\n",
    "3. Navigate the JSON response object to access the current price of each coin, and store each in a variable.\n",
    "\n",
    "    > **Hint** Note the specific identifier for each cryptocurrency in the API JSON response. The Bitcoin identifier is `1`, and the Ethereum identifier is `1027`.\n",
    "\n",
    "4. Calculate the value, in US dollars, of the current amount of each cryptocurrency and of the entire cryptocurrency wallet.\n",
    "\n"
   ]
  },
  {
   "cell_type": "code",
   "execution_count": 3,
   "metadata": {},
   "outputs": [],
   "source": [
    "# The current number of coins for each cryptocurrency asset held in the portfolio.\n",
    "btc_coins = 1.2\n",
    "eth_coins = 5.3"
   ]
  },
  {
   "cell_type": "markdown",
   "metadata": {},
   "source": [
    "#### Step 1: Create a variable named `monthly_income`, and set its value to `12000`."
   ]
  },
  {
   "cell_type": "code",
   "execution_count": 4,
   "metadata": {},
   "outputs": [],
   "source": [
    "# The monthly amount for the member's household income\n",
    "monthly_income = 12000"
   ]
  },
  {
   "cell_type": "markdown",
   "metadata": {},
   "source": [
    "#### Review the endpoint URLs for the API calls to Free Crypto API in order to get the current pricing information for both BTC and ETH."
   ]
  },
  {
   "cell_type": "code",
   "execution_count": 5,
   "metadata": {},
   "outputs": [],
   "source": [
    "# The Free Crypto API Call endpoint URLs for the held cryptocurrency assets\n",
    "btc_url = \"https://api.alternative.me/v2/ticker/Bitcoin/?convert=USD\"\n",
    "eth_url = \"https://api.alternative.me/v2/ticker/Ethereum/?convert=USD\""
   ]
  },
  {
   "cell_type": "markdown",
   "metadata": {},
   "source": [
    "#### Step 2. Use the Requests library to get the current price (in US dollars) of Bitcoin (BTC) and Ethereum (ETH) by using the API endpoints that the starter code supplied."
   ]
  },
  {
   "cell_type": "code",
   "execution_count": 6,
   "metadata": {},
   "outputs": [
    {
     "data": {
      "text/plain": [
       "{'data': {'1': {'id': 1,\n",
       "   'name': 'Bitcoin',\n",
       "   'symbol': 'BTC',\n",
       "   'website_slug': 'bitcoin',\n",
       "   'rank': 1,\n",
       "   'circulating_supply': 18921593,\n",
       "   'total_supply': 18921593,\n",
       "   'max_supply': 21000000,\n",
       "   'quotes': {'USD': {'price': 42909.0,\n",
       "     'volume_24h': 36353326812,\n",
       "     'market_cap': 814150725422,\n",
       "     'percentage_change_1h': -0.34714402659118,\n",
       "     'percentage_change_24h': -7.79322132305597,\n",
       "     'percentage_change_7d': -7.73752693040883,\n",
       "     'percent_change_1h': -0.34714402659118,\n",
       "     'percent_change_24h': -7.79322132305597,\n",
       "     'percent_change_7d': -7.73752693040883}},\n",
       "   'last_updated': 1641486895}},\n",
       " 'metadata': {'timestamp': 1641486895,\n",
       "  'num_cryptocurrencies': 3105,\n",
       "  'error': None}}"
      ]
     },
     "execution_count": 6,
     "metadata": {},
     "output_type": "execute_result"
    }
   ],
   "source": [
    "# Using the Python requests library, make an API call to access the current price of BTC\n",
    "btc_response = requests.get(btc_url)\n",
    "# Use the json.dumps function to review the response data from the API call\n",
    "# Use the indent and sort_keys parameters to make the response object readable\n",
    "btc_response = btc_response.json()\n",
    "btc_response"
   ]
  },
  {
   "cell_type": "code",
   "execution_count": 7,
   "metadata": {},
   "outputs": [
    {
     "data": {
      "text/plain": [
       "{'data': {'1027': {'id': 1027,\n",
       "   'name': 'Ethereum',\n",
       "   'symbol': 'ETH',\n",
       "   'website_slug': 'ethereum',\n",
       "   'rank': 2,\n",
       "   'circulating_supply': 119049703,\n",
       "   'total_supply': 119049703,\n",
       "   'max_supply': 0,\n",
       "   'quotes': {'USD': {'price': 3399.25,\n",
       "     'volume_24h': 30229704221,\n",
       "     'market_cap': 404953855708,\n",
       "     'percentage_change_1h': 0.128114149122066,\n",
       "     'percentage_change_24h': -11.1802921558881,\n",
       "     'percentage_change_7d': -6.72686931143927,\n",
       "     'percent_change_1h': 0.128114149122066,\n",
       "     'percent_change_24h': -11.1802921558881,\n",
       "     'percent_change_7d': -6.72686931143927}},\n",
       "   'last_updated': 1641486766}},\n",
       " 'metadata': {'timestamp': 1641486766,\n",
       "  'num_cryptocurrencies': 3105,\n",
       "  'error': None}}"
      ]
     },
     "execution_count": 7,
     "metadata": {},
     "output_type": "execute_result"
    }
   ],
   "source": [
    "# Using the Python requests library, make an API call to access the current price ETH\n",
    "eth_response = requests.get(eth_url)\n",
    "\n",
    "# Use the json.dumps function to review the response data from the API call\n",
    "# Use the indent and sort_keys parameters to make the response object readable\n",
    "eth_response = eth_response.json()\n",
    "eth_response\n"
   ]
  },
  {
   "cell_type": "markdown",
   "metadata": {},
   "source": [
    "#### Step 3: Navigate the JSON response object to access the current price of each coin, and store each in a variable."
   ]
  },
  {
   "cell_type": "code",
   "execution_count": 8,
   "metadata": {},
   "outputs": [
    {
     "name": "stdout",
     "output_type": "stream",
     "text": [
      "42909.0\n"
     ]
    }
   ],
   "source": [
    "# Navigate the BTC response object to access the current price of BTC\n",
    "btc_price = btc_response['data']['1']['quotes']['USD']['price']\n",
    "\n",
    "# Print the current price of BTC\n",
    "print(btc_price)\n"
   ]
  },
  {
   "cell_type": "code",
   "execution_count": 9,
   "metadata": {},
   "outputs": [
    {
     "name": "stdout",
     "output_type": "stream",
     "text": [
      "3399.25\n"
     ]
    }
   ],
   "source": [
    "# Navigate the BTC response object to access the current price of ETH\n",
    "eth_price = eth_response['data']['1027']['quotes']['USD']['price']\n",
    "\n",
    "# Print the current price of ETH\n",
    "print(eth_price)\n"
   ]
  },
  {
   "cell_type": "markdown",
   "metadata": {},
   "source": [
    "### Step 4: Calculate the value, in US dollars, of the current amount of each cryptocurrency and of the entire cryptocurrency wallet."
   ]
  },
  {
   "cell_type": "code",
   "execution_count": 10,
   "metadata": {},
   "outputs": [
    {
     "name": "stdout",
     "output_type": "stream",
     "text": [
      "51490.799999999996\n"
     ]
    }
   ],
   "source": [
    "# Compute the current value of the BTC holding \n",
    "btc_value = btc_coins * btc_price\n",
    "\n",
    "# Print current value of your holding in BTC\n",
    "print(btc_value)\n"
   ]
  },
  {
   "cell_type": "code",
   "execution_count": 11,
   "metadata": {},
   "outputs": [
    {
     "name": "stdout",
     "output_type": "stream",
     "text": [
      "18016.024999999998\n"
     ]
    }
   ],
   "source": [
    "# Compute the current value of the ETH holding \n",
    "eth_value = eth_coins * eth_price\n",
    "\n",
    "# Print current value of your holding in ETH\n",
    "print(eth_value)\n"
   ]
  },
  {
   "cell_type": "code",
   "execution_count": 12,
   "metadata": {
    "scrolled": true
   },
   "outputs": [
    {
     "name": "stdout",
     "output_type": "stream",
     "text": [
      "69506.825\n"
     ]
    }
   ],
   "source": [
    "# Compute the total value of the cryptocurrency wallet\n",
    "# Add the value of the BTC holding to the value of the ETH holding\n",
    "total_crypto_wallet = btc_value + eth_value\n",
    "\n",
    "# Print current cryptocurrency wallet balance\n",
    "print(total_crypto_wallet)"
   ]
  },
  {
   "cell_type": "markdown",
   "metadata": {},
   "source": [
    "### Evaluate the Stock and Bond Holdings by Using the Alpaca SDK\n",
    "\n",
    "In this section, you’ll determine the current value of a member’s stock and bond holdings. You’ll make an API call to Alpaca via the Alpaca SDK to get the current closing prices of the SPDR S&P 500 ETF Trust (ticker: SPY) and of the iShares Core US Aggregate Bond ETF (ticker: AGG). For the prototype, assume that the member holds 110 shares of SPY, which represents the stock portion of their portfolio, and 200 shares of AGG, which represents the bond portion. To do all this, complete the following steps:\n",
    "\n",
    "1. In the `Starter_Code` folder, create an environment file (`.env`) to store the values of your Alpaca API key and Alpaca secret key.\n",
    "\n",
    "2. Set the variables for the Alpaca API and secret keys. Using the Alpaca SDK, create the Alpaca `tradeapi.REST` object. In this object, include the parameters for the Alpaca API key, the secret key, and the version number.\n",
    "\n",
    "3. Set the following parameters for the Alpaca API call:\n",
    "\n",
    "    - `tickers`: Use the tickers for the member’s stock and bond holdings.\n",
    "\n",
    "    - `timeframe`: Use a time frame of one day.\n",
    "\n",
    "    - `start_date` and `end_date`: Use the same date for these parameters, and format them with the date of the previous weekday (or `2020-08-07`). This is because you want the one closing price for the most-recent trading day.\n",
    "\n",
    "4. Get the current closing prices for `SPY` and `AGG` by using the Alpaca `get_barset` function. Format the response as a Pandas DataFrame by including the `df` property at the end of the `get_barset` function.\n",
    "\n",
    "5. Navigating the Alpaca response DataFrame, select the `SPY` and `AGG` closing prices, and store them as variables.\n",
    "\n",
    "6. Calculate the value, in US dollars, of the current amount of shares in each of the stock and bond portions of the portfolio, and print the results.\n"
   ]
  },
  {
   "cell_type": "markdown",
   "metadata": {},
   "source": [
    "#### Review the total number of shares held in both (SPY) and (AGG)."
   ]
  },
  {
   "cell_type": "code",
   "execution_count": 13,
   "metadata": {},
   "outputs": [],
   "source": [
    "# Current amount of shares held in both the stock (SPY) and bond (AGG) portion of the portfolio.\n",
    "spy_shares = 110\n",
    "agg_shares = 200\n"
   ]
  },
  {
   "cell_type": "markdown",
   "metadata": {},
   "source": [
    "#### Step 1: In the `Starter_Code` folder, create an environment file (`.env`) to store the values of your Alpaca API key and Alpaca secret key."
   ]
  },
  {
   "cell_type": "markdown",
   "metadata": {},
   "source": [
    "#### Step 2: Set the variables for the Alpaca API and secret keys. Using the Alpaca SDK, create the Alpaca `tradeapi.REST` object. In this object, include the parameters for the Alpaca API key, the secret key, and the version number."
   ]
  },
  {
   "cell_type": "code",
   "execution_count": 24,
   "metadata": {},
   "outputs": [],
   "source": [
    "# Set the variables for the Alpaca API and secret keys\n",
    "alpaca_api_key = os.getenv(\"ALPACA_API_KEY\")\n",
    "alpaca_secret_key = os.getenv(\"ALPACA_SECRET_KEY\")\n",
    "\n",
    "# Create the Alpaca tradeapi.REST object\n",
    "#api = tradeapi.REST(ALPACA_API_KEY_ID, ALPACA_SECRET_KEY, api_version='v2')\n",
    "\n",
    "alpaca = tradeapi.REST(\n",
    "    alpaca_api_key, \n",
    "    alpaca_secret_key, \n",
    "    api_version='v2')"
   ]
  },
  {
   "cell_type": "markdown",
   "metadata": {},
   "source": [
    "#### Step 3: Set the following parameters for the Alpaca API call:\n",
    "\n",
    "- `tickers`: Use the tickers for the member’s stock and bond holdings.\n",
    "\n",
    "- `timeframe`: Use a time frame of one day.\n",
    "\n",
    "- `start_date` and `end_date`: Use the same date for these parameters, and format them with the date of the previous weekday (or `2020-08-07`). This is because you want the one closing price for the most-recent trading day.\n"
   ]
  },
  {
   "cell_type": "code",
   "execution_count": 27,
   "metadata": {},
   "outputs": [],
   "source": [
    "# Set the tickers for both the bond and stock portion of the portfolio\n",
    "tickers = ['SPY', 'AGG']\n",
    "\n",
    "# Set timeframe to 1D \n",
    "timeframe = '1D' \n",
    "# Format current date as ISO format\n",
    "# Set both the start and end date at the date of your prior weekday \n",
    "# This will give you the closing price of the previous trading day\n",
    "# Alternatively you can use a start and end date of 2020-08-07\n",
    "start_date = '2022-01-06'\n",
    "end_date = '2022-01-06'"
   ]
  },
  {
   "cell_type": "markdown",
   "metadata": {},
   "source": [
    "#### Step 4: Get the current closing prices for `SPY` and `AGG` by using the Alpaca `get_barset` function. Format the response as a Pandas DataFrame by including the `df` property at the end of the `get_barset` function."
   ]
  },
  {
   "cell_type": "code",
   "execution_count": 35,
   "metadata": {},
   "outputs": [
    {
     "data": {
      "text/html": [
       "<div>\n",
       "<style scoped>\n",
       "    .dataframe tbody tr th:only-of-type {\n",
       "        vertical-align: middle;\n",
       "    }\n",
       "\n",
       "    .dataframe tbody tr th {\n",
       "        vertical-align: top;\n",
       "    }\n",
       "\n",
       "    .dataframe thead tr th {\n",
       "        text-align: left;\n",
       "    }\n",
       "\n",
       "    .dataframe thead tr:last-of-type th {\n",
       "        text-align: right;\n",
       "    }\n",
       "</style>\n",
       "<table border=\"1\" class=\"dataframe\">\n",
       "  <thead>\n",
       "    <tr>\n",
       "      <th></th>\n",
       "      <th colspan=\"5\" halign=\"left\">AGG</th>\n",
       "      <th colspan=\"5\" halign=\"left\">SPY</th>\n",
       "    </tr>\n",
       "    <tr>\n",
       "      <th></th>\n",
       "      <th>open</th>\n",
       "      <th>high</th>\n",
       "      <th>low</th>\n",
       "      <th>close</th>\n",
       "      <th>volume</th>\n",
       "      <th>open</th>\n",
       "      <th>high</th>\n",
       "      <th>low</th>\n",
       "      <th>close</th>\n",
       "      <th>volume</th>\n",
       "    </tr>\n",
       "    <tr>\n",
       "      <th>time</th>\n",
       "      <th></th>\n",
       "      <th></th>\n",
       "      <th></th>\n",
       "      <th></th>\n",
       "      <th></th>\n",
       "      <th></th>\n",
       "      <th></th>\n",
       "      <th></th>\n",
       "      <th></th>\n",
       "      <th></th>\n",
       "    </tr>\n",
       "  </thead>\n",
       "  <tbody>\n",
       "    <tr>\n",
       "      <th>2021-08-17 00:00:00-04:00</th>\n",
       "      <td>115.98</td>\n",
       "      <td>116.090</td>\n",
       "      <td>115.93</td>\n",
       "      <td>115.950</td>\n",
       "      <td>4493522</td>\n",
       "      <td>444.24</td>\n",
       "      <td>444.960</td>\n",
       "      <td>440.8500</td>\n",
       "      <td>444.06</td>\n",
       "      <td>84161406</td>\n",
       "    </tr>\n",
       "    <tr>\n",
       "      <th>2021-08-18 00:00:00-04:00</th>\n",
       "      <td>115.94</td>\n",
       "      <td>116.030</td>\n",
       "      <td>115.80</td>\n",
       "      <td>115.960</td>\n",
       "      <td>3840678</td>\n",
       "      <td>442.96</td>\n",
       "      <td>444.625</td>\n",
       "      <td>438.9200</td>\n",
       "      <td>439.21</td>\n",
       "      <td>70093163</td>\n",
       "    </tr>\n",
       "    <tr>\n",
       "      <th>2021-08-19 00:00:00-04:00</th>\n",
       "      <td>116.12</td>\n",
       "      <td>116.155</td>\n",
       "      <td>116.02</td>\n",
       "      <td>116.140</td>\n",
       "      <td>4314380</td>\n",
       "      <td>436.27</td>\n",
       "      <td>441.140</td>\n",
       "      <td>436.1200</td>\n",
       "      <td>439.84</td>\n",
       "      <td>84838725</td>\n",
       "    </tr>\n",
       "    <tr>\n",
       "      <th>2021-08-20 00:00:00-04:00</th>\n",
       "      <td>116.18</td>\n",
       "      <td>116.210</td>\n",
       "      <td>116.08</td>\n",
       "      <td>116.150</td>\n",
       "      <td>2672679</td>\n",
       "      <td>440.23</td>\n",
       "      <td>443.710</td>\n",
       "      <td>439.7100</td>\n",
       "      <td>443.33</td>\n",
       "      <td>63120064</td>\n",
       "    </tr>\n",
       "    <tr>\n",
       "      <th>2021-08-23 00:00:00-04:00</th>\n",
       "      <td>116.09</td>\n",
       "      <td>116.180</td>\n",
       "      <td>116.04</td>\n",
       "      <td>116.175</td>\n",
       "      <td>5580303</td>\n",
       "      <td>445.16</td>\n",
       "      <td>448.230</td>\n",
       "      <td>443.4355</td>\n",
       "      <td>447.26</td>\n",
       "      <td>49349485</td>\n",
       "    </tr>\n",
       "  </tbody>\n",
       "</table>\n",
       "</div>"
      ],
      "text/plain": [
       "                              AGG                                        SPY  \\\n",
       "                             open     high     low    close   volume    open   \n",
       "time                                                                           \n",
       "2021-08-17 00:00:00-04:00  115.98  116.090  115.93  115.950  4493522  444.24   \n",
       "2021-08-18 00:00:00-04:00  115.94  116.030  115.80  115.960  3840678  442.96   \n",
       "2021-08-19 00:00:00-04:00  116.12  116.155  116.02  116.140  4314380  436.27   \n",
       "2021-08-20 00:00:00-04:00  116.18  116.210  116.08  116.150  2672679  440.23   \n",
       "2021-08-23 00:00:00-04:00  116.09  116.180  116.04  116.175  5580303  445.16   \n",
       "\n",
       "                                                                \n",
       "                              high       low   close    volume  \n",
       "time                                                            \n",
       "2021-08-17 00:00:00-04:00  444.960  440.8500  444.06  84161406  \n",
       "2021-08-18 00:00:00-04:00  444.625  438.9200  439.21  70093163  \n",
       "2021-08-19 00:00:00-04:00  441.140  436.1200  439.84  84838725  \n",
       "2021-08-20 00:00:00-04:00  443.710  439.7100  443.33  63120064  \n",
       "2021-08-23 00:00:00-04:00  448.230  443.4355  447.26  49349485  "
      ]
     },
     "execution_count": 35,
     "metadata": {},
     "output_type": "execute_result"
    }
   ],
   "source": [
    "# Use the Alpaca get_barset function to get current closing prices the portfolio\n",
    "# Be sure to set the `df` property after the function to format the response object as a DataFrame\n",
    "closing_prices_df = alpaca.get_barset(\n",
    "    tickers, \n",
    "    timeframe, \n",
    "    start=start_date, \n",
    "    end=end_date\n",
    ").df\n",
    "\n",
    "# Review the first 5 rows of the Alpaca DataFrame\n",
    "closing_prices_df.head(5)"
   ]
  },
  {
   "cell_type": "markdown",
   "metadata": {},
   "source": [
    "#### Step 5: Navigating the Alpaca response DataFrame, select the `SPY` and `AGG` closing prices, and store them as variables."
   ]
  },
  {
   "cell_type": "code",
   "execution_count": 36,
   "metadata": {},
   "outputs": [
    {
     "name": "stdout",
     "output_type": "stream",
     "text": [
      "Current AGG closing price: $115.95\n"
     ]
    }
   ],
   "source": [
    "# Access the closing price for AGG from the Alpaca DataFrame\n",
    "# Converting the value to a floating point number\n",
    "agg_close_price = closing_prices_df[\"AGG\"][\"close\"][0]\n",
    "\n",
    "\n",
    "# Print the AGG closing price\n",
    "print(f\"Current AGG closing price: ${agg_close_price}\")"
   ]
  },
  {
   "cell_type": "code",
   "execution_count": 38,
   "metadata": {},
   "outputs": [
    {
     "name": "stdout",
     "output_type": "stream",
     "text": [
      "Current SPY closing price: $444.06\n"
     ]
    }
   ],
   "source": [
    "# Access the closing price for SPY from the Alpaca DataFrame\n",
    "# Converting the value to a floating point number\n",
    "spy_close_price = closing_prices_df[\"SPY\"][\"close\"][0]\n",
    "\n",
    "# Print the SPY closing price\n",
    "print(f\"Current SPY closing price: ${spy_close_price}\")\n"
   ]
  },
  {
   "cell_type": "markdown",
   "metadata": {},
   "source": [
    "#### Step 6: Calculate the value, in US dollars, of the current amount of shares in each of the stock and bond portions of the portfolio, and print the results."
   ]
  },
  {
   "cell_type": "code",
   "execution_count": 50,
   "metadata": {},
   "outputs": [
    {
     "name": "stdout",
     "output_type": "stream",
     "text": [
      "The current value of your AGG shares is $ 23190.0\n"
     ]
    }
   ],
   "source": [
    "# Calculate the current value of the bond portion of the portfolio\n",
    "agg_value = agg_close_price * agg_shares\n",
    "\n",
    "# Print the current value of the bond portfolio\n",
    "print(f\"The current value of your AGG shares is $ {agg_value}\")\n"
   ]
  },
  {
   "cell_type": "code",
   "execution_count": 51,
   "metadata": {},
   "outputs": [
    {
     "name": "stdout",
     "output_type": "stream",
     "text": [
      "The current value of your SPY shares is $ 48846.6\n"
     ]
    }
   ],
   "source": [
    "# Calculate the current value of the stock portion of the portfolio\n",
    "spy_value = spy_close_price * spy_shares\n",
    "\n",
    "# Print the current value of the stock portfolio\n",
    "print(f\"The current value of your SPY shares is $ {spy_value}\")"
   ]
  },
  {
   "cell_type": "code",
   "execution_count": 52,
   "metadata": {},
   "outputs": [
    {
     "name": "stdout",
     "output_type": "stream",
     "text": [
      "The value for stocks and bonds in this portfolio is $72036.6\n"
     ]
    }
   ],
   "source": [
    "# Calculate the total value of the stock and bond portion of the portfolio\n",
    "total_stocks_bonds = spy_value + agg_value\n",
    "\n",
    "# Print the current balance of the stock and bond portion of the portfolio\n",
    "print(f\"The value for stocks and bonds in this portfolio is ${total_stocks_bonds}\")\n"
   ]
  },
  {
   "cell_type": "code",
   "execution_count": 53,
   "metadata": {},
   "outputs": [
    {
     "name": "stdout",
     "output_type": "stream",
     "text": [
      "Total value of portfolio with crypto, bonds and stocks is $141543.42\n"
     ]
    }
   ],
   "source": [
    "# Calculate the total value of the member's entire savings portfolio\n",
    "# Add the value of the cryptocurrency walled to the value of the total stocks and bonds\n",
    "total_portfolio = total_stocks_bonds + total_crypto_wallet\n",
    "\n",
    "\n",
    "# Print current cryptocurrency wallet balance\n",
    "print(f\"Total value of portfolio with crypto, bonds and stocks is ${round(total_portfolio,2)}\")\n"
   ]
  },
  {
   "cell_type": "markdown",
   "metadata": {},
   "source": [
    "### Evaluate the Emergency Fund\n",
    "\n",
    "In this section, you’ll use the valuations for the cryptocurrency wallet and for the stock and bond portions of the portfolio to determine if the credit union member has enough savings to build an emergency fund into their financial plan. To do this, complete the following steps:\n",
    "\n",
    "1. Create a Python list named `savings_data` that has two elements. The first element contains the total value of the cryptocurrency wallet. The second element contains the total value of the stock and bond portions of the portfolio.\n",
    "\n",
    "2. Use the `savings_data` list to create a Pandas DataFrame named `savings_df`, and then display this DataFrame. The function to create the DataFrame should take the following three parameters:\n",
    "\n",
    "    - `savings_data`: Use the list that you just created.\n",
    "\n",
    "    - `columns`: Set this parameter equal to a Python list with a single value called `amount`.\n",
    "\n",
    "    - `index`: Set this parameter equal to a Python list with the values of `crypto` and `stock/bond`.\n",
    "\n",
    "3. Use the `savings_df` DataFrame to plot a pie chart that visualizes the composition of the member’s portfolio. The y-axis of the pie chart uses `amount`. Be sure to add a title.\n",
    "\n",
    "4. Using Python, determine if the current portfolio has enough to create an emergency fund as part of the member’s financial plan. Ideally, an emergency fund should equal to three times the member’s monthly income. To do this, implement the following steps:\n",
    "\n",
    "    1. Create a variable named `emergency_fund_value`, and set it equal to three times the value of the member’s `monthly_income` of $12000. (You set this earlier in Part 1).\n",
    "\n",
    "    2. Create a series of three if statements to determine if the member’s total portfolio is large enough to fund the emergency portfolio:\n",
    "\n",
    "        1. If the total portfolio value is greater than the emergency fund value, display a message congratulating the member for having enough money in this fund.\n",
    "\n",
    "        2. Else if the total portfolio value is equal to the emergency fund value, display a message congratulating the member on reaching this important financial goal.\n",
    "\n",
    "        3. Else the total portfolio is less than the emergency fund value, so display a message showing how many dollars away the member is from reaching the goal. (Subtract the total portfolio value from the emergency fund value.)\n"
   ]
  },
  {
   "cell_type": "markdown",
   "metadata": {},
   "source": [
    "#### Step 1: Create a Python list named `savings_data` that has two elements. The first element contains the total value of the cryptocurrency wallet. The second element contains the total value of the stock and bond portions of the portfolio."
   ]
  },
  {
   "cell_type": "code",
   "execution_count": 55,
   "metadata": {},
   "outputs": [
    {
     "data": {
      "text/plain": [
       "[72036.6, 69506.825]"
      ]
     },
     "execution_count": 55,
     "metadata": {},
     "output_type": "execute_result"
    }
   ],
   "source": [
    "# Consolidate financial assets data into a Python list\n",
    "savings_data = [total_stocks_bonds, total_crypto_wallet]\n",
    "\n",
    "# Review the Python list savings_data\n",
    "savings_data\n",
    "    "
   ]
  },
  {
   "cell_type": "markdown",
   "metadata": {},
   "source": [
    "#### Step 2: Use the `savings_data` list to create a Pandas DataFrame named `savings_df`, and then display this DataFrame. The function to create the DataFrame should take the following three parameters:\n",
    "\n",
    "- `savings_data`: Use the list that you just created.\n",
    "\n",
    "- `columns`: Set this parameter equal to a Python list with a single value called `amount`.\n",
    "\n",
    "- `index`: Set this parameter equal to a Python list with the values of `crypto` and `stock/bond`.\n"
   ]
  },
  {
   "cell_type": "code",
   "execution_count": 56,
   "metadata": {},
   "outputs": [
    {
     "data": {
      "text/html": [
       "<div>\n",
       "<style scoped>\n",
       "    .dataframe tbody tr th:only-of-type {\n",
       "        vertical-align: middle;\n",
       "    }\n",
       "\n",
       "    .dataframe tbody tr th {\n",
       "        vertical-align: top;\n",
       "    }\n",
       "\n",
       "    .dataframe thead th {\n",
       "        text-align: right;\n",
       "    }\n",
       "</style>\n",
       "<table border=\"1\" class=\"dataframe\">\n",
       "  <thead>\n",
       "    <tr style=\"text-align: right;\">\n",
       "      <th></th>\n",
       "      <th>Amount</th>\n",
       "    </tr>\n",
       "  </thead>\n",
       "  <tbody>\n",
       "    <tr>\n",
       "      <th>BTC</th>\n",
       "      <td>51490.800</td>\n",
       "    </tr>\n",
       "    <tr>\n",
       "      <th>ETH</th>\n",
       "      <td>18016.025</td>\n",
       "    </tr>\n",
       "    <tr>\n",
       "      <th>SPY</th>\n",
       "      <td>48846.600</td>\n",
       "    </tr>\n",
       "    <tr>\n",
       "      <th>AGG</th>\n",
       "      <td>23190.000</td>\n",
       "    </tr>\n",
       "  </tbody>\n",
       "</table>\n",
       "</div>"
      ],
      "text/plain": [
       "        Amount\n",
       "BTC  51490.800\n",
       "ETH  18016.025\n",
       "SPY  48846.600\n",
       "AGG  23190.000"
      ]
     },
     "execution_count": 56,
     "metadata": {},
     "output_type": "execute_result"
    }
   ],
   "source": [
    "# Create a Pandas DataFrame called savings_df \n",
    "savings_df = pd.DataFrame(\n",
    "    {'Amount':[btc_value, eth_value, spy_value, agg_value]},\n",
    "    index=['BTC', 'ETH', 'SPY', 'AGG']\n",
    ")\n",
    "\n",
    "# Display the savings_df DataFrame\n",
    "savings_df\n"
   ]
  },
  {
   "cell_type": "markdown",
   "metadata": {},
   "source": [
    "#### Step 3: Use the `savings_df` DataFrame to plot a pie chart that visualizes the composition of the member’s portfolio. The y-axis of the pie chart uses `amount`. Be sure to add a title."
   ]
  },
  {
   "cell_type": "code",
   "execution_count": 59,
   "metadata": {},
   "outputs": [
    {
     "data": {
      "text/plain": [
       "<AxesSubplot:title={'center':'The composition of the member’s portfolio'}, ylabel='Amount'>"
      ]
     },
     "execution_count": 59,
     "metadata": {},
     "output_type": "execute_result"
    },
    {
     "data": {
      "image/png": "[encoded data removed]",
      "text/plain": [
       "<Figure size 432x288 with 1 Axes>"
      ]
     },
     "metadata": {},
     "output_type": "display_data"
    }
   ],
   "source": [
    "# Plot the total value of the member's portfolio (crypto and stock/bond) in a pie chart\n",
    "savings_df.plot.pie(y='Amount', title=\"The composition of the member’s portfolio\")\n"
   ]
  },
  {
   "cell_type": "markdown",
   "metadata": {},
   "source": [
    "#### Step 4: Using Python, determine if the current portfolio has enough to create an emergency fund as part of the member’s financial plan. Ideally, an emergency fund should equal to three times the member’s monthly income. To do this, implement the following steps:\n",
    "\n",
    "Step 1. Create a variable named `emergency_fund_value`, and set it equal to three times the value of the member’s `monthly_income` of 12000. (You set this earlier in Part 1).\n",
    "\n",
    "Step 2. Create a series of three if statements to determine if the member’s total portfolio is large enough to fund the emergency portfolio:\n",
    "\n",
    "* If the total portfolio value is greater than the emergency fund value, display a message congratulating the member for having enough money in this fund.\n",
    "\n",
    "* Else if the total portfolio value is equal to the emergency fund value, display a message congratulating the member on reaching this important financial goal.\n",
    "\n",
    "* Else the total portfolio is less than the emergency fund value, so display a message showing how many dollars away the member is from reaching the goal. (Subtract the total portfolio value from the emergency fund value.)\n"
   ]
  },
  {
   "cell_type": "markdown",
   "metadata": {},
   "source": [
    "##### Step 4-1: Create a variable named `emergency_fund_value`, and set it equal to three times the value of the member’s `monthly_income` of 12000. (You set this earlier in Part 1)."
   ]
  },
  {
   "cell_type": "code",
   "execution_count": 60,
   "metadata": {},
   "outputs": [],
   "source": [
    "# Create a variable named emergency_fund_value\n",
    "emergency_fund_value=monthly_income * 3\n"
   ]
  },
  {
   "cell_type": "markdown",
   "metadata": {},
   "source": [
    "##### Step 4-2: Create a series of three if statements to determine if the member’s total portfolio is large enough to fund the emergency portfolio:\n",
    "\n",
    "* If the total portfolio value is greater than the emergency fund value, display a message congratulating the member for having enough money in this fund.\n",
    "\n",
    "* Else if the total portfolio value is equal to the emergency fund value, display a message congratulating the member on reaching this important financial goal.\n",
    "\n",
    "* Else the total portfolio is less than the emergency fund value, so display a message showing how many dollars away the member is from reaching the goal. (Subtract the total portfolio value from the emergency fund value.)"
   ]
  },
  {
   "cell_type": "code",
   "execution_count": 63,
   "metadata": {},
   "outputs": [
    {
     "name": "stdout",
     "output_type": "stream",
     "text": [
      "Congratulation! The member has enough money in his fund.\n"
     ]
    }
   ],
   "source": [
    "# Evaluate the possibility of creating an emergency fund with 3 conditions:\n",
    "if total_portfolio > emergency_fund_value:\n",
    "    print(\"Congratulation! The member has enough money in his fund.\")\n",
    "elif total_portfolio == emergency_funds_value:\n",
    "    print(\"Congratulation! The member reaches his important financial goal.\")\n",
    "else:\n",
    "    print(f\"You are ${(total_portfolio - emergency_funds_value)} from achieinvg your goal.\")\n"
   ]
  },
  {
   "cell_type": "markdown",
   "metadata": {},
   "source": [
    "## Part 2: Create a Financial Planner for Retirement"
   ]
  },
  {
   "cell_type": "markdown",
   "metadata": {},
   "source": [
    "### Create the Monte Carlo Simulation\n",
    "\n",
    "In this section, you’ll use the MCForecastTools library to create a Monte Carlo simulation for the member’s savings portfolio. To do this, complete the following steps:\n",
    "\n",
    "1. Make an API call via the Alpaca SDK to get 3 years of historical closing prices for a traditional 60/40 portfolio split: 60% stocks (SPY) and 40% bonds (AGG).\n",
    "\n",
    "2. Run a Monte Carlo simulation of 500 samples and 30 years for the 60/40 portfolio, and then plot the results.The following image shows the overlay line plot resulting from a simulation with these characteristics. However, because a random number generator is used to run each live Monte Carlo simulation, your image will differ slightly from this exact image:\n",
    "\n",
    "![A screenshot depicts the resulting plot.](Images/5-4-monte-carlo-line-plot.png)\n",
    "\n",
    "3. Plot the probability distribution of the Monte Carlo simulation. Plot the probability distribution of the Monte Carlo simulation. The following image shows the histogram plot resulting from a simulation with these characteristics. However, because a random number generator is used to run each live Monte Carlo simulation, your image will differ slightly from this exact image:\n",
    "\n",
    "![A screenshot depicts the histogram plot.](Images/5-4-monte-carlo-histogram.png)\n",
    "\n",
    "4. Generate the summary statistics for the Monte Carlo simulation.\n",
    "\n"
   ]
  },
  {
   "cell_type": "markdown",
   "metadata": {},
   "source": [
    "#### Step 1: Make an API call via the Alpaca SDK to get 3 years of historical closing prices for a traditional 60/40 portfolio split: 60% stocks (SPY) and 40% bonds (AGG)."
   ]
  },
  {
   "cell_type": "code",
   "execution_count": null,
   "metadata": {},
   "outputs": [],
   "source": [
    "# Set start and end dates of 3 years back from your current date\n",
    "# Alternatively, you can use an end date of 2020-08-07 and work 3 years back from that date \n",
    "start_date = pd.Timestamp(\"2017-08-07\", tz=\"America/New_York\").isoformat()\n",
    "end_date = pd.Timestamp(\"2020-08-07\", tz=\"America/New_York\").isoformat()\n",
    "\n",
    "# Set number of rows to 1000 to retrieve the maximum amount of rows\n",
    "limit_rows = 1000"
   ]
  },
  {
   "cell_type": "code",
   "execution_count": 64,
   "metadata": {},
   "outputs": [
    {
     "data": {
      "text/html": [
       "<div>\n",
       "<style scoped>\n",
       "    .dataframe tbody tr th:only-of-type {\n",
       "        vertical-align: middle;\n",
       "    }\n",
       "\n",
       "    .dataframe tbody tr th {\n",
       "        vertical-align: top;\n",
       "    }\n",
       "\n",
       "    .dataframe thead tr th {\n",
       "        text-align: left;\n",
       "    }\n",
       "\n",
       "    .dataframe thead tr:last-of-type th {\n",
       "        text-align: right;\n",
       "    }\n",
       "</style>\n",
       "<table border=\"1\" class=\"dataframe\">\n",
       "  <thead>\n",
       "    <tr>\n",
       "      <th></th>\n",
       "      <th colspan=\"5\" halign=\"left\">AGG</th>\n",
       "      <th colspan=\"5\" halign=\"left\">SPY</th>\n",
       "    </tr>\n",
       "    <tr>\n",
       "      <th></th>\n",
       "      <th>open</th>\n",
       "      <th>high</th>\n",
       "      <th>low</th>\n",
       "      <th>close</th>\n",
       "      <th>volume</th>\n",
       "      <th>open</th>\n",
       "      <th>high</th>\n",
       "      <th>low</th>\n",
       "      <th>close</th>\n",
       "      <th>volume</th>\n",
       "    </tr>\n",
       "    <tr>\n",
       "      <th>time</th>\n",
       "      <th></th>\n",
       "      <th></th>\n",
       "      <th></th>\n",
       "      <th></th>\n",
       "      <th></th>\n",
       "      <th></th>\n",
       "      <th></th>\n",
       "      <th></th>\n",
       "      <th></th>\n",
       "      <th></th>\n",
       "    </tr>\n",
       "  </thead>\n",
       "  <tbody>\n",
       "    <tr>\n",
       "      <th>2021-12-31 00:00:00-05:00</th>\n",
       "      <td>114.15</td>\n",
       "      <td>114.3100</td>\n",
       "      <td>114.060</td>\n",
       "      <td>114.09</td>\n",
       "      <td>6557778</td>\n",
       "      <td>475.64</td>\n",
       "      <td>476.86</td>\n",
       "      <td>474.6700</td>\n",
       "      <td>474.89</td>\n",
       "      <td>51212452</td>\n",
       "    </tr>\n",
       "    <tr>\n",
       "      <th>2022-01-03 00:00:00-05:00</th>\n",
       "      <td>113.67</td>\n",
       "      <td>113.6753</td>\n",
       "      <td>113.310</td>\n",
       "      <td>113.31</td>\n",
       "      <td>8906643</td>\n",
       "      <td>476.32</td>\n",
       "      <td>477.85</td>\n",
       "      <td>473.8500</td>\n",
       "      <td>477.76</td>\n",
       "      <td>56128214</td>\n",
       "    </tr>\n",
       "    <tr>\n",
       "      <th>2022-01-04 00:00:00-05:00</th>\n",
       "      <td>113.22</td>\n",
       "      <td>113.3000</td>\n",
       "      <td>113.075</td>\n",
       "      <td>113.29</td>\n",
       "      <td>7615698</td>\n",
       "      <td>479.22</td>\n",
       "      <td>479.98</td>\n",
       "      <td>475.5800</td>\n",
       "      <td>477.51</td>\n",
       "      <td>59093344</td>\n",
       "    </tr>\n",
       "    <tr>\n",
       "      <th>2022-01-05 00:00:00-05:00</th>\n",
       "      <td>113.34</td>\n",
       "      <td>113.3600</td>\n",
       "      <td>112.900</td>\n",
       "      <td>112.93</td>\n",
       "      <td>7686662</td>\n",
       "      <td>477.16</td>\n",
       "      <td>477.98</td>\n",
       "      <td>468.2801</td>\n",
       "      <td>468.38</td>\n",
       "      <td>87411658</td>\n",
       "    </tr>\n",
       "    <tr>\n",
       "      <th>2022-01-06 00:00:00-05:00</th>\n",
       "      <td>112.75</td>\n",
       "      <td>112.8400</td>\n",
       "      <td>112.660</td>\n",
       "      <td>112.81</td>\n",
       "      <td>6812819</td>\n",
       "      <td>467.89</td>\n",
       "      <td>470.82</td>\n",
       "      <td>465.4300</td>\n",
       "      <td>467.93</td>\n",
       "      <td>78577470</td>\n",
       "    </tr>\n",
       "  </tbody>\n",
       "</table>\n",
       "</div>"
      ],
      "text/plain": [
       "                              AGG                                         SPY  \\\n",
       "                             open      high      low   close   volume    open   \n",
       "time                                                                            \n",
       "2021-12-31 00:00:00-05:00  114.15  114.3100  114.060  114.09  6557778  475.64   \n",
       "2022-01-03 00:00:00-05:00  113.67  113.6753  113.310  113.31  8906643  476.32   \n",
       "2022-01-04 00:00:00-05:00  113.22  113.3000  113.075  113.29  7615698  479.22   \n",
       "2022-01-05 00:00:00-05:00  113.34  113.3600  112.900  112.93  7686662  477.16   \n",
       "2022-01-06 00:00:00-05:00  112.75  112.8400  112.660  112.81  6812819  467.89   \n",
       "\n",
       "                                                               \n",
       "                             high       low   close    volume  \n",
       "time                                                           \n",
       "2021-12-31 00:00:00-05:00  476.86  474.6700  474.89  51212452  \n",
       "2022-01-03 00:00:00-05:00  477.85  473.8500  477.76  56128214  \n",
       "2022-01-04 00:00:00-05:00  479.98  475.5800  477.51  59093344  \n",
       "2022-01-05 00:00:00-05:00  477.98  468.2801  468.38  87411658  \n",
       "2022-01-06 00:00:00-05:00  470.82  465.4300  467.93  78577470  "
      ]
     },
     "execution_count": 64,
     "metadata": {},
     "output_type": "execute_result"
    }
   ],
   "source": [
    "# Use the Alpaca get_barset function to make the API call to get the 3 years worth of pricing data\n",
    "# The tickers and timeframe parameters should have been set in Part 1 of this activity \n",
    "# The start and end dates should be updated with the information set above\n",
    "# Remember to add the df property to the end of the call so the response is returned as a DataFrame\n",
    "prices_df = alpaca.get_barset(\n",
    "    tickers,\n",
    "    timeframe,\n",
    "    start=start_date,\n",
    "    end=end_date,\n",
    "    ).df\n",
    "\n",
    "\n",
    "# Display both the first and last five rows of the DataFrame\n",
    "prices_df.head() \n",
    "prices_df.tail()\n"
   ]
  },
  {
   "cell_type": "markdown",
   "metadata": {},
   "source": [
    "#### Step 2: Run a Monte Carlo simulation of 500 samples and 30 years for the 60/40 portfolio, and then plot the results."
   ]
  },
  {
   "cell_type": "code",
   "execution_count": 65,
   "metadata": {},
   "outputs": [
    {
     "data": {
      "text/html": [
       "<div>\n",
       "<style scoped>\n",
       "    .dataframe tbody tr th:only-of-type {\n",
       "        vertical-align: middle;\n",
       "    }\n",
       "\n",
       "    .dataframe tbody tr th {\n",
       "        vertical-align: top;\n",
       "    }\n",
       "\n",
       "    .dataframe thead tr th {\n",
       "        text-align: left;\n",
       "    }\n",
       "\n",
       "    .dataframe thead tr:last-of-type th {\n",
       "        text-align: right;\n",
       "    }\n",
       "</style>\n",
       "<table border=\"1\" class=\"dataframe\">\n",
       "  <thead>\n",
       "    <tr>\n",
       "      <th></th>\n",
       "      <th colspan=\"6\" halign=\"left\">AGG</th>\n",
       "      <th colspan=\"6\" halign=\"left\">SPY</th>\n",
       "    </tr>\n",
       "    <tr>\n",
       "      <th></th>\n",
       "      <th>open</th>\n",
       "      <th>high</th>\n",
       "      <th>low</th>\n",
       "      <th>close</th>\n",
       "      <th>volume</th>\n",
       "      <th>daily_return</th>\n",
       "      <th>open</th>\n",
       "      <th>high</th>\n",
       "      <th>low</th>\n",
       "      <th>close</th>\n",
       "      <th>volume</th>\n",
       "      <th>daily_return</th>\n",
       "    </tr>\n",
       "    <tr>\n",
       "      <th>time</th>\n",
       "      <th></th>\n",
       "      <th></th>\n",
       "      <th></th>\n",
       "      <th></th>\n",
       "      <th></th>\n",
       "      <th></th>\n",
       "      <th></th>\n",
       "      <th></th>\n",
       "      <th></th>\n",
       "      <th></th>\n",
       "      <th></th>\n",
       "      <th></th>\n",
       "    </tr>\n",
       "  </thead>\n",
       "  <tbody>\n",
       "    <tr>\n",
       "      <th>2021-08-17 00:00:00-04:00</th>\n",
       "      <td>115.98</td>\n",
       "      <td>116.090</td>\n",
       "      <td>115.93</td>\n",
       "      <td>115.950</td>\n",
       "      <td>4493522</td>\n",
       "      <td>NaN</td>\n",
       "      <td>444.24</td>\n",
       "      <td>444.960</td>\n",
       "      <td>440.8500</td>\n",
       "      <td>444.06</td>\n",
       "      <td>84161406</td>\n",
       "      <td>NaN</td>\n",
       "    </tr>\n",
       "    <tr>\n",
       "      <th>2021-08-18 00:00:00-04:00</th>\n",
       "      <td>115.94</td>\n",
       "      <td>116.030</td>\n",
       "      <td>115.80</td>\n",
       "      <td>115.960</td>\n",
       "      <td>3840678</td>\n",
       "      <td>0.000086</td>\n",
       "      <td>442.96</td>\n",
       "      <td>444.625</td>\n",
       "      <td>438.9200</td>\n",
       "      <td>439.21</td>\n",
       "      <td>70093163</td>\n",
       "      <td>-0.010922</td>\n",
       "    </tr>\n",
       "    <tr>\n",
       "      <th>2021-08-19 00:00:00-04:00</th>\n",
       "      <td>116.12</td>\n",
       "      <td>116.155</td>\n",
       "      <td>116.02</td>\n",
       "      <td>116.140</td>\n",
       "      <td>4314380</td>\n",
       "      <td>0.001552</td>\n",
       "      <td>436.27</td>\n",
       "      <td>441.140</td>\n",
       "      <td>436.1200</td>\n",
       "      <td>439.84</td>\n",
       "      <td>84838725</td>\n",
       "      <td>0.001434</td>\n",
       "    </tr>\n",
       "    <tr>\n",
       "      <th>2021-08-20 00:00:00-04:00</th>\n",
       "      <td>116.18</td>\n",
       "      <td>116.210</td>\n",
       "      <td>116.08</td>\n",
       "      <td>116.150</td>\n",
       "      <td>2672679</td>\n",
       "      <td>0.000086</td>\n",
       "      <td>440.23</td>\n",
       "      <td>443.710</td>\n",
       "      <td>439.7100</td>\n",
       "      <td>443.33</td>\n",
       "      <td>63120064</td>\n",
       "      <td>0.007935</td>\n",
       "    </tr>\n",
       "    <tr>\n",
       "      <th>2021-08-23 00:00:00-04:00</th>\n",
       "      <td>116.09</td>\n",
       "      <td>116.180</td>\n",
       "      <td>116.04</td>\n",
       "      <td>116.175</td>\n",
       "      <td>5580303</td>\n",
       "      <td>0.000215</td>\n",
       "      <td>445.16</td>\n",
       "      <td>448.230</td>\n",
       "      <td>443.4355</td>\n",
       "      <td>447.26</td>\n",
       "      <td>49349485</td>\n",
       "      <td>0.008865</td>\n",
       "    </tr>\n",
       "  </tbody>\n",
       "</table>\n",
       "</div>"
      ],
      "text/plain": [
       "                              AGG                                     \\\n",
       "                             open     high     low    close   volume   \n",
       "time                                                                   \n",
       "2021-08-17 00:00:00-04:00  115.98  116.090  115.93  115.950  4493522   \n",
       "2021-08-18 00:00:00-04:00  115.94  116.030  115.80  115.960  3840678   \n",
       "2021-08-19 00:00:00-04:00  116.12  116.155  116.02  116.140  4314380   \n",
       "2021-08-20 00:00:00-04:00  116.18  116.210  116.08  116.150  2672679   \n",
       "2021-08-23 00:00:00-04:00  116.09  116.180  116.04  116.175  5580303   \n",
       "\n",
       "                                           SPY                             \\\n",
       "                          daily_return    open     high       low   close   \n",
       "time                                                                        \n",
       "2021-08-17 00:00:00-04:00          NaN  444.24  444.960  440.8500  444.06   \n",
       "2021-08-18 00:00:00-04:00     0.000086  442.96  444.625  438.9200  439.21   \n",
       "2021-08-19 00:00:00-04:00     0.001552  436.27  441.140  436.1200  439.84   \n",
       "2021-08-20 00:00:00-04:00     0.000086  440.23  443.710  439.7100  443.33   \n",
       "2021-08-23 00:00:00-04:00     0.000215  445.16  448.230  443.4355  447.26   \n",
       "\n",
       "                                                  \n",
       "                             volume daily_return  \n",
       "time                                              \n",
       "2021-08-17 00:00:00-04:00  84161406          NaN  \n",
       "2021-08-18 00:00:00-04:00  70093163    -0.010922  \n",
       "2021-08-19 00:00:00-04:00  84838725     0.001434  \n",
       "2021-08-20 00:00:00-04:00  63120064     0.007935  \n",
       "2021-08-23 00:00:00-04:00  49349485     0.008865  "
      ]
     },
     "execution_count": 65,
     "metadata": {},
     "output_type": "execute_result"
    }
   ],
   "source": [
    "# Configure the Monte Carlo simulation to forecast 30 years cumulative returns\n",
    "# The weights should be split 40% to AGG and 60% to SPY.\n",
    "# Run 500 samples.\n",
    "MC_30_weight = MCSimulation(portfolio_data = prices_df, weights = [.60, .40], \n",
    "                              num_simulation = 500, num_trading_days = 252 * 30)\n",
    "\n",
    "# Review the simulation input data\n",
    "MC_30_weight.portfolio_data.head()\n"
   ]
  },
  {
   "cell_type": "code",
   "execution_count": 66,
   "metadata": {},
   "outputs": [
    {
     "name": "stdout",
     "output_type": "stream",
     "text": [
      "Running Monte Carlo simulation number 0.\n",
      "Running Monte Carlo simulation number 10.\n",
      "Running Monte Carlo simulation number 20.\n",
      "Running Monte Carlo simulation number 30.\n",
      "Running Monte Carlo simulation number 40.\n",
      "Running Monte Carlo simulation number 50.\n",
      "Running Monte Carlo simulation number 60.\n",
      "Running Monte Carlo simulation number 70.\n",
      "Running Monte Carlo simulation number 80.\n",
      "Running Monte Carlo simulation number 90.\n",
      "Running Monte Carlo simulation number 100.\n"
     ]
    },
    {
     "name": "stderr",
     "output_type": "stream",
     "text": [
      "C:\\Users\\Anastasia\\Documents\\dev\\tasks for module 5\\Starter_Code\\MCForecastTools.py:117: PerformanceWarning: DataFrame is highly fragmented.  This is usually the result of calling `frame.insert` many times, which has poor performance.  Consider joining all columns at once using pd.concat(axis=1) instead.  To get a de-fragmented frame, use `newframe = frame.copy()`\n",
      "  portfolio_cumulative_returns[n] = (1 + sim_df.fillna(0)).cumprod()\n"
     ]
    },
    {
     "name": "stdout",
     "output_type": "stream",
     "text": [
      "Running Monte Carlo simulation number 110.\n",
      "Running Monte Carlo simulation number 120.\n",
      "Running Monte Carlo simulation number 130.\n",
      "Running Monte Carlo simulation number 140.\n",
      "Running Monte Carlo simulation number 150.\n",
      "Running Monte Carlo simulation number 160.\n",
      "Running Monte Carlo simulation number 170.\n",
      "Running Monte Carlo simulation number 180.\n",
      "Running Monte Carlo simulation number 190.\n",
      "Running Monte Carlo simulation number 200.\n",
      "Running Monte Carlo simulation number 210.\n",
      "Running Monte Carlo simulation number 220.\n",
      "Running Monte Carlo simulation number 230.\n",
      "Running Monte Carlo simulation number 240.\n",
      "Running Monte Carlo simulation number 250.\n",
      "Running Monte Carlo simulation number 260.\n",
      "Running Monte Carlo simulation number 270.\n",
      "Running Monte Carlo simulation number 280.\n",
      "Running Monte Carlo simulation number 290.\n",
      "Running Monte Carlo simulation number 300.\n",
      "Running Monte Carlo simulation number 310.\n",
      "Running Monte Carlo simulation number 320.\n",
      "Running Monte Carlo simulation number 330.\n",
      "Running Monte Carlo simulation number 340.\n",
      "Running Monte Carlo simulation number 350.\n",
      "Running Monte Carlo simulation number 360.\n",
      "Running Monte Carlo simulation number 370.\n",
      "Running Monte Carlo simulation number 380.\n",
      "Running Monte Carlo simulation number 390.\n",
      "Running Monte Carlo simulation number 400.\n",
      "Running Monte Carlo simulation number 410.\n",
      "Running Monte Carlo simulation number 420.\n",
      "Running Monte Carlo simulation number 430.\n",
      "Running Monte Carlo simulation number 440.\n",
      "Running Monte Carlo simulation number 450.\n",
      "Running Monte Carlo simulation number 460.\n",
      "Running Monte Carlo simulation number 470.\n",
      "Running Monte Carlo simulation number 480.\n",
      "Running Monte Carlo simulation number 490.\n"
     ]
    },
    {
     "data": {
      "text/html": [
       "<div>\n",
       "<style scoped>\n",
       "    .dataframe tbody tr th:only-of-type {\n",
       "        vertical-align: middle;\n",
       "    }\n",
       "\n",
       "    .dataframe tbody tr th {\n",
       "        vertical-align: top;\n",
       "    }\n",
       "\n",
       "    .dataframe thead th {\n",
       "        text-align: right;\n",
       "    }\n",
       "</style>\n",
       "<table border=\"1\" class=\"dataframe\">\n",
       "  <thead>\n",
       "    <tr style=\"text-align: right;\">\n",
       "      <th></th>\n",
       "      <th>0</th>\n",
       "      <th>1</th>\n",
       "      <th>2</th>\n",
       "      <th>3</th>\n",
       "      <th>4</th>\n",
       "      <th>5</th>\n",
       "      <th>6</th>\n",
       "      <th>7</th>\n",
       "      <th>8</th>\n",
       "      <th>9</th>\n",
       "      <th>...</th>\n",
       "      <th>490</th>\n",
       "      <th>491</th>\n",
       "      <th>492</th>\n",
       "      <th>493</th>\n",
       "      <th>494</th>\n",
       "      <th>495</th>\n",
       "      <th>496</th>\n",
       "      <th>497</th>\n",
       "      <th>498</th>\n",
       "      <th>499</th>\n",
       "    </tr>\n",
       "  </thead>\n",
       "  <tbody>\n",
       "    <tr>\n",
       "      <th>0</th>\n",
       "      <td>1.000000</td>\n",
       "      <td>1.000000</td>\n",
       "      <td>1.000000</td>\n",
       "      <td>1.000000</td>\n",
       "      <td>1.000000</td>\n",
       "      <td>1.000000</td>\n",
       "      <td>1.000000</td>\n",
       "      <td>1.000000</td>\n",
       "      <td>1.000000</td>\n",
       "      <td>1.000000</td>\n",
       "      <td>...</td>\n",
       "      <td>1.000000</td>\n",
       "      <td>1.000000</td>\n",
       "      <td>1.000000</td>\n",
       "      <td>1.000000</td>\n",
       "      <td>1.000000</td>\n",
       "      <td>1.000000</td>\n",
       "      <td>1.000000</td>\n",
       "      <td>1.000000</td>\n",
       "      <td>1.000000</td>\n",
       "      <td>1.000000</td>\n",
       "    </tr>\n",
       "    <tr>\n",
       "      <th>1</th>\n",
       "      <td>1.001836</td>\n",
       "      <td>1.000411</td>\n",
       "      <td>0.999300</td>\n",
       "      <td>1.004655</td>\n",
       "      <td>0.998572</td>\n",
       "      <td>1.004402</td>\n",
       "      <td>0.998959</td>\n",
       "      <td>0.999667</td>\n",
       "      <td>1.000314</td>\n",
       "      <td>1.000112</td>\n",
       "      <td>...</td>\n",
       "      <td>0.999782</td>\n",
       "      <td>0.998489</td>\n",
       "      <td>0.993617</td>\n",
       "      <td>0.997981</td>\n",
       "      <td>0.997341</td>\n",
       "      <td>1.001563</td>\n",
       "      <td>1.001094</td>\n",
       "      <td>1.004890</td>\n",
       "      <td>0.998482</td>\n",
       "      <td>1.001988</td>\n",
       "    </tr>\n",
       "    <tr>\n",
       "      <th>2</th>\n",
       "      <td>1.006744</td>\n",
       "      <td>1.001231</td>\n",
       "      <td>0.996674</td>\n",
       "      <td>1.005347</td>\n",
       "      <td>0.995020</td>\n",
       "      <td>1.013315</td>\n",
       "      <td>0.994972</td>\n",
       "      <td>0.995560</td>\n",
       "      <td>0.999647</td>\n",
       "      <td>1.000246</td>\n",
       "      <td>...</td>\n",
       "      <td>0.989734</td>\n",
       "      <td>1.007329</td>\n",
       "      <td>0.992450</td>\n",
       "      <td>0.993076</td>\n",
       "      <td>0.994829</td>\n",
       "      <td>1.000473</td>\n",
       "      <td>0.995196</td>\n",
       "      <td>1.001086</td>\n",
       "      <td>1.000849</td>\n",
       "      <td>0.998845</td>\n",
       "    </tr>\n",
       "    <tr>\n",
       "      <th>3</th>\n",
       "      <td>1.007326</td>\n",
       "      <td>1.001352</td>\n",
       "      <td>0.990840</td>\n",
       "      <td>1.002735</td>\n",
       "      <td>0.983815</td>\n",
       "      <td>1.007264</td>\n",
       "      <td>0.996685</td>\n",
       "      <td>1.002458</td>\n",
       "      <td>0.996144</td>\n",
       "      <td>1.001522</td>\n",
       "      <td>...</td>\n",
       "      <td>0.993357</td>\n",
       "      <td>1.002571</td>\n",
       "      <td>0.996110</td>\n",
       "      <td>0.984618</td>\n",
       "      <td>1.000190</td>\n",
       "      <td>1.000917</td>\n",
       "      <td>1.002771</td>\n",
       "      <td>1.000798</td>\n",
       "      <td>0.999035</td>\n",
       "      <td>0.997958</td>\n",
       "    </tr>\n",
       "    <tr>\n",
       "      <th>4</th>\n",
       "      <td>1.009263</td>\n",
       "      <td>1.001103</td>\n",
       "      <td>0.989486</td>\n",
       "      <td>1.004422</td>\n",
       "      <td>0.977283</td>\n",
       "      <td>1.005925</td>\n",
       "      <td>0.995416</td>\n",
       "      <td>1.001236</td>\n",
       "      <td>1.004631</td>\n",
       "      <td>0.997879</td>\n",
       "      <td>...</td>\n",
       "      <td>0.992653</td>\n",
       "      <td>1.005117</td>\n",
       "      <td>1.002816</td>\n",
       "      <td>0.982420</td>\n",
       "      <td>0.997906</td>\n",
       "      <td>0.994428</td>\n",
       "      <td>1.005355</td>\n",
       "      <td>1.004798</td>\n",
       "      <td>1.006025</td>\n",
       "      <td>1.004372</td>\n",
       "    </tr>\n",
       "    <tr>\n",
       "      <th>...</th>\n",
       "      <td>...</td>\n",
       "      <td>...</td>\n",
       "      <td>...</td>\n",
       "      <td>...</td>\n",
       "      <td>...</td>\n",
       "      <td>...</td>\n",
       "      <td>...</td>\n",
       "      <td>...</td>\n",
       "      <td>...</td>\n",
       "      <td>...</td>\n",
       "      <td>...</td>\n",
       "      <td>...</td>\n",
       "      <td>...</td>\n",
       "      <td>...</td>\n",
       "      <td>...</td>\n",
       "      <td>...</td>\n",
       "      <td>...</td>\n",
       "      <td>...</td>\n",
       "      <td>...</td>\n",
       "      <td>...</td>\n",
       "      <td>...</td>\n",
       "    </tr>\n",
       "    <tr>\n",
       "      <th>7556</th>\n",
       "      <td>1.654887</td>\n",
       "      <td>1.499160</td>\n",
       "      <td>1.445532</td>\n",
       "      <td>2.242993</td>\n",
       "      <td>1.106804</td>\n",
       "      <td>0.817867</td>\n",
       "      <td>1.143638</td>\n",
       "      <td>1.110260</td>\n",
       "      <td>2.072772</td>\n",
       "      <td>2.592902</td>\n",
       "      <td>...</td>\n",
       "      <td>2.234319</td>\n",
       "      <td>1.099668</td>\n",
       "      <td>1.715327</td>\n",
       "      <td>2.966326</td>\n",
       "      <td>1.856570</td>\n",
       "      <td>1.338890</td>\n",
       "      <td>1.990540</td>\n",
       "      <td>3.200469</td>\n",
       "      <td>2.077111</td>\n",
       "      <td>2.146508</td>\n",
       "    </tr>\n",
       "    <tr>\n",
       "      <th>7557</th>\n",
       "      <td>1.668250</td>\n",
       "      <td>1.495522</td>\n",
       "      <td>1.444458</td>\n",
       "      <td>2.240708</td>\n",
       "      <td>1.105294</td>\n",
       "      <td>0.815429</td>\n",
       "      <td>1.140787</td>\n",
       "      <td>1.106125</td>\n",
       "      <td>2.067182</td>\n",
       "      <td>2.604537</td>\n",
       "      <td>...</td>\n",
       "      <td>2.240990</td>\n",
       "      <td>1.103323</td>\n",
       "      <td>1.724831</td>\n",
       "      <td>2.966571</td>\n",
       "      <td>1.855710</td>\n",
       "      <td>1.340496</td>\n",
       "      <td>1.983955</td>\n",
       "      <td>3.175939</td>\n",
       "      <td>2.084741</td>\n",
       "      <td>2.143433</td>\n",
       "    </tr>\n",
       "    <tr>\n",
       "      <th>7558</th>\n",
       "      <td>1.674198</td>\n",
       "      <td>1.494294</td>\n",
       "      <td>1.442726</td>\n",
       "      <td>2.237051</td>\n",
       "      <td>1.104222</td>\n",
       "      <td>0.812419</td>\n",
       "      <td>1.146151</td>\n",
       "      <td>1.112448</td>\n",
       "      <td>2.064814</td>\n",
       "      <td>2.593903</td>\n",
       "      <td>...</td>\n",
       "      <td>2.249457</td>\n",
       "      <td>1.101974</td>\n",
       "      <td>1.731673</td>\n",
       "      <td>2.945463</td>\n",
       "      <td>1.847415</td>\n",
       "      <td>1.342026</td>\n",
       "      <td>1.984885</td>\n",
       "      <td>3.179307</td>\n",
       "      <td>2.076024</td>\n",
       "      <td>2.154428</td>\n",
       "    </tr>\n",
       "    <tr>\n",
       "      <th>7559</th>\n",
       "      <td>1.675144</td>\n",
       "      <td>1.489136</td>\n",
       "      <td>1.446363</td>\n",
       "      <td>2.240791</td>\n",
       "      <td>1.103934</td>\n",
       "      <td>0.814640</td>\n",
       "      <td>1.145282</td>\n",
       "      <td>1.113508</td>\n",
       "      <td>2.066923</td>\n",
       "      <td>2.592594</td>\n",
       "      <td>...</td>\n",
       "      <td>2.232825</td>\n",
       "      <td>1.101191</td>\n",
       "      <td>1.741600</td>\n",
       "      <td>2.946927</td>\n",
       "      <td>1.847984</td>\n",
       "      <td>1.343181</td>\n",
       "      <td>1.974669</td>\n",
       "      <td>3.164987</td>\n",
       "      <td>2.083023</td>\n",
       "      <td>2.164391</td>\n",
       "    </tr>\n",
       "    <tr>\n",
       "      <th>7560</th>\n",
       "      <td>1.676896</td>\n",
       "      <td>1.493804</td>\n",
       "      <td>1.454115</td>\n",
       "      <td>2.244178</td>\n",
       "      <td>1.108088</td>\n",
       "      <td>0.809964</td>\n",
       "      <td>1.147399</td>\n",
       "      <td>1.121496</td>\n",
       "      <td>2.061608</td>\n",
       "      <td>2.609468</td>\n",
       "      <td>...</td>\n",
       "      <td>2.230697</td>\n",
       "      <td>1.100324</td>\n",
       "      <td>1.739518</td>\n",
       "      <td>2.934129</td>\n",
       "      <td>1.856632</td>\n",
       "      <td>1.339792</td>\n",
       "      <td>1.962436</td>\n",
       "      <td>3.144029</td>\n",
       "      <td>2.085471</td>\n",
       "      <td>2.158945</td>\n",
       "    </tr>\n",
       "  </tbody>\n",
       "</table>\n",
       "<p>7561 rows × 500 columns</p>\n",
       "</div>"
      ],
      "text/plain": [
       "           0         1         2         3         4         5         6    \\\n",
       "0     1.000000  1.000000  1.000000  1.000000  1.000000  1.000000  1.000000   \n",
       "1     1.001836  1.000411  0.999300  1.004655  0.998572  1.004402  0.998959   \n",
       "2     1.006744  1.001231  0.996674  1.005347  0.995020  1.013315  0.994972   \n",
       "3     1.007326  1.001352  0.990840  1.002735  0.983815  1.007264  0.996685   \n",
       "4     1.009263  1.001103  0.989486  1.004422  0.977283  1.005925  0.995416   \n",
       "...        ...       ...       ...       ...       ...       ...       ...   \n",
       "7556  1.654887  1.499160  1.445532  2.242993  1.106804  0.817867  1.143638   \n",
       "7557  1.668250  1.495522  1.444458  2.240708  1.105294  0.815429  1.140787   \n",
       "7558  1.674198  1.494294  1.442726  2.237051  1.104222  0.812419  1.146151   \n",
       "7559  1.675144  1.489136  1.446363  2.240791  1.103934  0.814640  1.145282   \n",
       "7560  1.676896  1.493804  1.454115  2.244178  1.108088  0.809964  1.147399   \n",
       "\n",
       "           7         8         9    ...       490       491       492  \\\n",
       "0     1.000000  1.000000  1.000000  ...  1.000000  1.000000  1.000000   \n",
       "1     0.999667  1.000314  1.000112  ...  0.999782  0.998489  0.993617   \n",
       "2     0.995560  0.999647  1.000246  ...  0.989734  1.007329  0.992450   \n",
       "3     1.002458  0.996144  1.001522  ...  0.993357  1.002571  0.996110   \n",
       "4     1.001236  1.004631  0.997879  ...  0.992653  1.005117  1.002816   \n",
       "...        ...       ...       ...  ...       ...       ...       ...   \n",
       "7556  1.110260  2.072772  2.592902  ...  2.234319  1.099668  1.715327   \n",
       "7557  1.106125  2.067182  2.604537  ...  2.240990  1.103323  1.724831   \n",
       "7558  1.112448  2.064814  2.593903  ...  2.249457  1.101974  1.731673   \n",
       "7559  1.113508  2.066923  2.592594  ...  2.232825  1.101191  1.741600   \n",
       "7560  1.121496  2.061608  2.609468  ...  2.230697  1.100324  1.739518   \n",
       "\n",
       "           493       494       495       496       497       498       499  \n",
       "0     1.000000  1.000000  1.000000  1.000000  1.000000  1.000000  1.000000  \n",
       "1     0.997981  0.997341  1.001563  1.001094  1.004890  0.998482  1.001988  \n",
       "2     0.993076  0.994829  1.000473  0.995196  1.001086  1.000849  0.998845  \n",
       "3     0.984618  1.000190  1.000917  1.002771  1.000798  0.999035  0.997958  \n",
       "4     0.982420  0.997906  0.994428  1.005355  1.004798  1.006025  1.004372  \n",
       "...        ...       ...       ...       ...       ...       ...       ...  \n",
       "7556  2.966326  1.856570  1.338890  1.990540  3.200469  2.077111  2.146508  \n",
       "7557  2.966571  1.855710  1.340496  1.983955  3.175939  2.084741  2.143433  \n",
       "7558  2.945463  1.847415  1.342026  1.984885  3.179307  2.076024  2.154428  \n",
       "7559  2.946927  1.847984  1.343181  1.974669  3.164987  2.083023  2.164391  \n",
       "7560  2.934129  1.856632  1.339792  1.962436  3.144029  2.085471  2.158945  \n",
       "\n",
       "[7561 rows x 500 columns]"
      ]
     },
     "execution_count": 66,
     "metadata": {},
     "output_type": "execute_result"
    }
   ],
   "source": [
    "# Run the Monte Carlo simulation to forecast 30 years cumulative returns\n",
    "MC_30_weight.calc_cumulative_return()\n"
   ]
  },
  {
   "cell_type": "code",
   "execution_count": 67,
   "metadata": {},
   "outputs": [
    {
     "data": {
      "image/png": "[encoded data removed]",
      "text/plain": [
       "<Figure size 432x288 with 1 Axes>"
      ]
     },
     "metadata": {
      "needs_background": "light"
     },
     "output_type": "display_data"
    }
   ],
   "source": [
    "# Visualize the 30-year Monte Carlo simulation by creating an\n",
    "# overlay line plot\n",
    "MC_weight_line_plot = MC_30_weight.plot_simulation()"
   ]
  },
  {
   "cell_type": "markdown",
   "metadata": {},
   "source": [
    "#### Step 3: Plot the probability distribution of the Monte Carlo simulation."
   ]
  },
  {
   "cell_type": "code",
   "execution_count": 68,
   "metadata": {},
   "outputs": [
    {
     "data": {
      "image/png": "[encoded data removed]",
      "text/plain": [
       "<Figure size 432x288 with 1 Axes>"
      ]
     },
     "metadata": {
      "needs_background": "light"
     },
     "output_type": "display_data"
    }
   ],
   "source": [
    "# Visualize the probability distribution of the 30-year Monte Carlo simulation \n",
    "# by plotting a histogram\n",
    "MC_weight_distribution_plot = MC_30_weight.plot_distribution()\n"
   ]
  },
  {
   "cell_type": "markdown",
   "metadata": {},
   "source": [
    "#### Step 4: Generate the summary statistics for the Monte Carlo simulation."
   ]
  },
  {
   "cell_type": "code",
   "execution_count": 70,
   "metadata": {},
   "outputs": [
    {
     "data": {
      "text/plain": [
       "count           500.000000\n",
       "mean              1.630706\n",
       "std               0.564089\n",
       "min               0.542804\n",
       "25%               1.230349\n",
       "50%               1.561437\n",
       "75%               1.909804\n",
       "max               3.849608\n",
       "95% CI Lower      0.803698\n",
       "95% CI Upper      3.059557\n",
       "Name: 7560, dtype: float64"
      ]
     },
     "execution_count": 70,
     "metadata": {},
     "output_type": "execute_result"
    }
   ],
   "source": [
    "# Generate summary statistics from the 30-year Monte Carlo simulation results\n",
    "# Save the results as a variable\n",
    "MC_weight_30_table = MC_30_weight.summarize_cumulative_return()\n",
    "\n",
    "\n",
    "# Review the 30-year Monte Carlo summary statistics\n",
    "MC_weight_30_table\n"
   ]
  },
  {
   "cell_type": "markdown",
   "metadata": {},
   "source": [
    "### Analyze the Retirement Portfolio Forecasts\n",
    "\n",
    "Using the current value of only the stock and bond portion of the member's portfolio and the summary statistics that you generated from the Monte Carlo simulation, answer the following question in your Jupyter notebook:\n",
    "\n",
    "-  What are the lower and upper bounds for the expected value of the portfolio with a 95% confidence interval?\n"
   ]
  },
  {
   "cell_type": "code",
   "execution_count": 71,
   "metadata": {},
   "outputs": [
    {
     "name": "stdout",
     "output_type": "stream",
     "text": [
      "The value for stocks and bonds in this portfolio is $72036.6\n"
     ]
    }
   ],
   "source": [
    "# Print the current balance of the stock and bond portion of the members portfolio\n",
    "print(f\"The value for stocks and bonds in this portfolio is ${total_stocks_bonds}\")\n"
   ]
  },
  {
   "cell_type": "code",
   "execution_count": 72,
   "metadata": {},
   "outputs": [
    {
     "name": "stdout",
     "output_type": "stream",
     "text": [
      "There is a 95% chance that this portfolio will range between $57895.7 and $220400.11.\n"
     ]
    }
   ],
   "source": [
    "# Use the lower and upper `95%` confidence intervals to calculate the range of the possible outcomes for the current stock/bond portfolio\n",
    "ci_lower_thirty_cumulative_return = round(MC_weight_30_table[8]*total_stocks_bonds,2)\n",
    "ci_upper_thirty_cumulative_return = round(MC_weight_30_table[9]*total_stocks_bonds,2)\n",
    "\n",
    "# Print the result of your calculations\n",
    "print(f\"There is a 95% chance that this portfolio will range between\"\n",
    "           f\" ${ci_lower_thirty_cumulative_return} and ${ci_upper_thirty_cumulative_return}.\")"
   ]
  },
  {
   "cell_type": "markdown",
   "metadata": {},
   "source": [
    "### Forecast Cumulative Returns in 10 Years\n",
    "\n",
    "The CTO of the credit union is impressed with your work on these planning tools but wonders if 30 years is a long time to wait until retirement. So, your next task is to adjust the retirement portfolio and run a new Monte Carlo simulation to find out if the changes will allow members to retire earlier.\n",
    "\n",
    "For this new Monte Carlo simulation, do the following: \n",
    "\n",
    "- Forecast the cumulative returns for 10 years from now. Because of the shortened investment horizon (30 years to 10 years), the portfolio needs to invest more heavily in the riskier asset&mdash;that is, stock&mdash;to help accumulate wealth for retirement. \n",
    "\n",
    "- Adjust the weights of the retirement portfolio so that the composition for the Monte Carlo simulation consists of 20% bonds and 80% stocks. \n",
    "\n",
    "- Run the simulation over 500 samples, and use the same data that the API call to Alpaca generated.\n",
    "\n",
    "- Based on the new Monte Carlo simulation, answer the following questions in your Jupyter notebook:\n",
    "\n",
    "    - Using the current value of only the stock and bond portion of the member's portfolio and the summary statistics that you generated from the new Monte Carlo simulation, what are the lower and upper bounds for the expected value of the portfolio (with the new weights) with a 95% confidence interval?\n",
    "\n",
    "    - Will weighting the portfolio more heavily toward stocks allow the credit union members to retire after only 10 years?\n"
   ]
  },
  {
   "cell_type": "code",
   "execution_count": 74,
   "metadata": {},
   "outputs": [
    {
     "data": {
      "text/html": [
       "<div>\n",
       "<style scoped>\n",
       "    .dataframe tbody tr th:only-of-type {\n",
       "        vertical-align: middle;\n",
       "    }\n",
       "\n",
       "    .dataframe tbody tr th {\n",
       "        vertical-align: top;\n",
       "    }\n",
       "\n",
       "    .dataframe thead tr th {\n",
       "        text-align: left;\n",
       "    }\n",
       "\n",
       "    .dataframe thead tr:last-of-type th {\n",
       "        text-align: right;\n",
       "    }\n",
       "</style>\n",
       "<table border=\"1\" class=\"dataframe\">\n",
       "  <thead>\n",
       "    <tr>\n",
       "      <th></th>\n",
       "      <th colspan=\"6\" halign=\"left\">AGG</th>\n",
       "      <th colspan=\"6\" halign=\"left\">SPY</th>\n",
       "    </tr>\n",
       "    <tr>\n",
       "      <th></th>\n",
       "      <th>open</th>\n",
       "      <th>high</th>\n",
       "      <th>low</th>\n",
       "      <th>close</th>\n",
       "      <th>volume</th>\n",
       "      <th>daily_return</th>\n",
       "      <th>open</th>\n",
       "      <th>high</th>\n",
       "      <th>low</th>\n",
       "      <th>close</th>\n",
       "      <th>volume</th>\n",
       "      <th>daily_return</th>\n",
       "    </tr>\n",
       "    <tr>\n",
       "      <th>time</th>\n",
       "      <th></th>\n",
       "      <th></th>\n",
       "      <th></th>\n",
       "      <th></th>\n",
       "      <th></th>\n",
       "      <th></th>\n",
       "      <th></th>\n",
       "      <th></th>\n",
       "      <th></th>\n",
       "      <th></th>\n",
       "      <th></th>\n",
       "      <th></th>\n",
       "    </tr>\n",
       "  </thead>\n",
       "  <tbody>\n",
       "    <tr>\n",
       "      <th>2021-08-17 00:00:00-04:00</th>\n",
       "      <td>115.98</td>\n",
       "      <td>116.090</td>\n",
       "      <td>115.93</td>\n",
       "      <td>115.950</td>\n",
       "      <td>4493522</td>\n",
       "      <td>NaN</td>\n",
       "      <td>444.24</td>\n",
       "      <td>444.960</td>\n",
       "      <td>440.8500</td>\n",
       "      <td>444.06</td>\n",
       "      <td>84161406</td>\n",
       "      <td>NaN</td>\n",
       "    </tr>\n",
       "    <tr>\n",
       "      <th>2021-08-18 00:00:00-04:00</th>\n",
       "      <td>115.94</td>\n",
       "      <td>116.030</td>\n",
       "      <td>115.80</td>\n",
       "      <td>115.960</td>\n",
       "      <td>3840678</td>\n",
       "      <td>0.000086</td>\n",
       "      <td>442.96</td>\n",
       "      <td>444.625</td>\n",
       "      <td>438.9200</td>\n",
       "      <td>439.21</td>\n",
       "      <td>70093163</td>\n",
       "      <td>-0.010922</td>\n",
       "    </tr>\n",
       "    <tr>\n",
       "      <th>2021-08-19 00:00:00-04:00</th>\n",
       "      <td>116.12</td>\n",
       "      <td>116.155</td>\n",
       "      <td>116.02</td>\n",
       "      <td>116.140</td>\n",
       "      <td>4314380</td>\n",
       "      <td>0.001552</td>\n",
       "      <td>436.27</td>\n",
       "      <td>441.140</td>\n",
       "      <td>436.1200</td>\n",
       "      <td>439.84</td>\n",
       "      <td>84838725</td>\n",
       "      <td>0.001434</td>\n",
       "    </tr>\n",
       "    <tr>\n",
       "      <th>2021-08-20 00:00:00-04:00</th>\n",
       "      <td>116.18</td>\n",
       "      <td>116.210</td>\n",
       "      <td>116.08</td>\n",
       "      <td>116.150</td>\n",
       "      <td>2672679</td>\n",
       "      <td>0.000086</td>\n",
       "      <td>440.23</td>\n",
       "      <td>443.710</td>\n",
       "      <td>439.7100</td>\n",
       "      <td>443.33</td>\n",
       "      <td>63120064</td>\n",
       "      <td>0.007935</td>\n",
       "    </tr>\n",
       "    <tr>\n",
       "      <th>2021-08-23 00:00:00-04:00</th>\n",
       "      <td>116.09</td>\n",
       "      <td>116.180</td>\n",
       "      <td>116.04</td>\n",
       "      <td>116.175</td>\n",
       "      <td>5580303</td>\n",
       "      <td>0.000215</td>\n",
       "      <td>445.16</td>\n",
       "      <td>448.230</td>\n",
       "      <td>443.4355</td>\n",
       "      <td>447.26</td>\n",
       "      <td>49349485</td>\n",
       "      <td>0.008865</td>\n",
       "    </tr>\n",
       "  </tbody>\n",
       "</table>\n",
       "</div>"
      ],
      "text/plain": [
       "                              AGG                                     \\\n",
       "                             open     high     low    close   volume   \n",
       "time                                                                   \n",
       "2021-08-17 00:00:00-04:00  115.98  116.090  115.93  115.950  4493522   \n",
       "2021-08-18 00:00:00-04:00  115.94  116.030  115.80  115.960  3840678   \n",
       "2021-08-19 00:00:00-04:00  116.12  116.155  116.02  116.140  4314380   \n",
       "2021-08-20 00:00:00-04:00  116.18  116.210  116.08  116.150  2672679   \n",
       "2021-08-23 00:00:00-04:00  116.09  116.180  116.04  116.175  5580303   \n",
       "\n",
       "                                           SPY                             \\\n",
       "                          daily_return    open     high       low   close   \n",
       "time                                                                        \n",
       "2021-08-17 00:00:00-04:00          NaN  444.24  444.960  440.8500  444.06   \n",
       "2021-08-18 00:00:00-04:00     0.000086  442.96  444.625  438.9200  439.21   \n",
       "2021-08-19 00:00:00-04:00     0.001552  436.27  441.140  436.1200  439.84   \n",
       "2021-08-20 00:00:00-04:00     0.000086  440.23  443.710  439.7100  443.33   \n",
       "2021-08-23 00:00:00-04:00     0.000215  445.16  448.230  443.4355  447.26   \n",
       "\n",
       "                                                  \n",
       "                             volume daily_return  \n",
       "time                                              \n",
       "2021-08-17 00:00:00-04:00  84161406          NaN  \n",
       "2021-08-18 00:00:00-04:00  70093163    -0.010922  \n",
       "2021-08-19 00:00:00-04:00  84838725     0.001434  \n",
       "2021-08-20 00:00:00-04:00  63120064     0.007935  \n",
       "2021-08-23 00:00:00-04:00  49349485     0.008865  "
      ]
     },
     "execution_count": 74,
     "metadata": {},
     "output_type": "execute_result"
    }
   ],
   "source": [
    "# Configure a Monte Carlo simulation to forecast 10 years cumulative returns\n",
    "# The weights should be split 20% to AGG and 80% to SPY.\n",
    "# Run 500 samples.\n",
    "MC_10_weight = MCSimulation(portfolio_data = prices_df, weights=[.80,.20], \n",
    "                              num_simulation = 500, num_trading_days= 252*10)\n",
    "# Review the simulation input data\n",
    "MC_10_weight.portfolio_data.head()"
   ]
  },
  {
   "cell_type": "code",
   "execution_count": 75,
   "metadata": {},
   "outputs": [
    {
     "name": "stdout",
     "output_type": "stream",
     "text": [
      "Running Monte Carlo simulation number 0.\n",
      "Running Monte Carlo simulation number 10.\n",
      "Running Monte Carlo simulation number 20.\n",
      "Running Monte Carlo simulation number 30.\n",
      "Running Monte Carlo simulation number 40.\n",
      "Running Monte Carlo simulation number 50.\n",
      "Running Monte Carlo simulation number 60.\n",
      "Running Monte Carlo simulation number 70.\n",
      "Running Monte Carlo simulation number 80.\n",
      "Running Monte Carlo simulation number 90.\n",
      "Running Monte Carlo simulation number 100.\n"
     ]
    },
    {
     "name": "stderr",
     "output_type": "stream",
     "text": [
      "C:\\Users\\Anastasia\\Documents\\dev\\tasks for module 5\\Starter_Code\\MCForecastTools.py:117: PerformanceWarning: DataFrame is highly fragmented.  This is usually the result of calling `frame.insert` many times, which has poor performance.  Consider joining all columns at once using pd.concat(axis=1) instead.  To get a de-fragmented frame, use `newframe = frame.copy()`\n",
      "  portfolio_cumulative_returns[n] = (1 + sim_df.fillna(0)).cumprod()\n"
     ]
    },
    {
     "name": "stdout",
     "output_type": "stream",
     "text": [
      "Running Monte Carlo simulation number 110.\n",
      "Running Monte Carlo simulation number 120.\n",
      "Running Monte Carlo simulation number 130.\n",
      "Running Monte Carlo simulation number 140.\n",
      "Running Monte Carlo simulation number 150.\n",
      "Running Monte Carlo simulation number 160.\n",
      "Running Monte Carlo simulation number 170.\n",
      "Running Monte Carlo simulation number 180.\n",
      "Running Monte Carlo simulation number 190.\n",
      "Running Monte Carlo simulation number 200.\n",
      "Running Monte Carlo simulation number 210.\n",
      "Running Monte Carlo simulation number 220.\n",
      "Running Monte Carlo simulation number 230.\n",
      "Running Monte Carlo simulation number 240.\n",
      "Running Monte Carlo simulation number 250.\n",
      "Running Monte Carlo simulation number 260.\n",
      "Running Monte Carlo simulation number 270.\n",
      "Running Monte Carlo simulation number 280.\n",
      "Running Monte Carlo simulation number 290.\n",
      "Running Monte Carlo simulation number 300.\n",
      "Running Monte Carlo simulation number 310.\n",
      "Running Monte Carlo simulation number 320.\n",
      "Running Monte Carlo simulation number 330.\n",
      "Running Monte Carlo simulation number 340.\n",
      "Running Monte Carlo simulation number 350.\n",
      "Running Monte Carlo simulation number 360.\n",
      "Running Monte Carlo simulation number 370.\n",
      "Running Monte Carlo simulation number 380.\n",
      "Running Monte Carlo simulation number 390.\n",
      "Running Monte Carlo simulation number 400.\n",
      "Running Monte Carlo simulation number 410.\n",
      "Running Monte Carlo simulation number 420.\n",
      "Running Monte Carlo simulation number 430.\n",
      "Running Monte Carlo simulation number 440.\n",
      "Running Monte Carlo simulation number 450.\n",
      "Running Monte Carlo simulation number 460.\n",
      "Running Monte Carlo simulation number 470.\n",
      "Running Monte Carlo simulation number 480.\n",
      "Running Monte Carlo simulation number 490.\n"
     ]
    },
    {
     "data": {
      "text/html": [
       "<div>\n",
       "<style scoped>\n",
       "    .dataframe tbody tr th:only-of-type {\n",
       "        vertical-align: middle;\n",
       "    }\n",
       "\n",
       "    .dataframe tbody tr th {\n",
       "        vertical-align: top;\n",
       "    }\n",
       "\n",
       "    .dataframe thead th {\n",
       "        text-align: right;\n",
       "    }\n",
       "</style>\n",
       "<table border=\"1\" class=\"dataframe\">\n",
       "  <thead>\n",
       "    <tr style=\"text-align: right;\">\n",
       "      <th></th>\n",
       "      <th>0</th>\n",
       "      <th>1</th>\n",
       "      <th>2</th>\n",
       "      <th>3</th>\n",
       "      <th>4</th>\n",
       "      <th>5</th>\n",
       "      <th>6</th>\n",
       "      <th>7</th>\n",
       "      <th>8</th>\n",
       "      <th>9</th>\n",
       "      <th>...</th>\n",
       "      <th>490</th>\n",
       "      <th>491</th>\n",
       "      <th>492</th>\n",
       "      <th>493</th>\n",
       "      <th>494</th>\n",
       "      <th>495</th>\n",
       "      <th>496</th>\n",
       "      <th>497</th>\n",
       "      <th>498</th>\n",
       "      <th>499</th>\n",
       "    </tr>\n",
       "  </thead>\n",
       "  <tbody>\n",
       "    <tr>\n",
       "      <th>0</th>\n",
       "      <td>1.000000</td>\n",
       "      <td>1.000000</td>\n",
       "      <td>1.000000</td>\n",
       "      <td>1.000000</td>\n",
       "      <td>1.000000</td>\n",
       "      <td>1.000000</td>\n",
       "      <td>1.000000</td>\n",
       "      <td>1.000000</td>\n",
       "      <td>1.000000</td>\n",
       "      <td>1.000000</td>\n",
       "      <td>...</td>\n",
       "      <td>1.000000</td>\n",
       "      <td>1.000000</td>\n",
       "      <td>1.000000</td>\n",
       "      <td>1.000000</td>\n",
       "      <td>1.000000</td>\n",
       "      <td>1.000000</td>\n",
       "      <td>1.000000</td>\n",
       "      <td>1.000000</td>\n",
       "      <td>1.000000</td>\n",
       "      <td>1.000000</td>\n",
       "    </tr>\n",
       "    <tr>\n",
       "      <th>1</th>\n",
       "      <td>1.007497</td>\n",
       "      <td>0.995016</td>\n",
       "      <td>1.004059</td>\n",
       "      <td>1.003246</td>\n",
       "      <td>0.997300</td>\n",
       "      <td>0.998693</td>\n",
       "      <td>1.000185</td>\n",
       "      <td>1.001098</td>\n",
       "      <td>1.000008</td>\n",
       "      <td>0.999136</td>\n",
       "      <td>...</td>\n",
       "      <td>0.999457</td>\n",
       "      <td>0.999898</td>\n",
       "      <td>0.997096</td>\n",
       "      <td>1.000452</td>\n",
       "      <td>1.001227</td>\n",
       "      <td>1.001511</td>\n",
       "      <td>1.005714</td>\n",
       "      <td>1.000729</td>\n",
       "      <td>0.999971</td>\n",
       "      <td>1.005412</td>\n",
       "    </tr>\n",
       "    <tr>\n",
       "      <th>2</th>\n",
       "      <td>1.002263</td>\n",
       "      <td>0.995093</td>\n",
       "      <td>1.002466</td>\n",
       "      <td>1.001932</td>\n",
       "      <td>0.995823</td>\n",
       "      <td>0.996732</td>\n",
       "      <td>1.002142</td>\n",
       "      <td>1.000995</td>\n",
       "      <td>1.003852</td>\n",
       "      <td>0.999912</td>\n",
       "      <td>...</td>\n",
       "      <td>0.999511</td>\n",
       "      <td>1.000344</td>\n",
       "      <td>0.996822</td>\n",
       "      <td>0.997333</td>\n",
       "      <td>1.001384</td>\n",
       "      <td>1.004726</td>\n",
       "      <td>1.004105</td>\n",
       "      <td>1.001596</td>\n",
       "      <td>1.002374</td>\n",
       "      <td>1.006141</td>\n",
       "    </tr>\n",
       "    <tr>\n",
       "      <th>3</th>\n",
       "      <td>1.005127</td>\n",
       "      <td>0.995843</td>\n",
       "      <td>1.003469</td>\n",
       "      <td>0.993547</td>\n",
       "      <td>0.996078</td>\n",
       "      <td>0.993977</td>\n",
       "      <td>1.002578</td>\n",
       "      <td>0.995590</td>\n",
       "      <td>1.007593</td>\n",
       "      <td>0.997790</td>\n",
       "      <td>...</td>\n",
       "      <td>1.001083</td>\n",
       "      <td>1.003008</td>\n",
       "      <td>0.992802</td>\n",
       "      <td>0.996266</td>\n",
       "      <td>1.005358</td>\n",
       "      <td>1.004953</td>\n",
       "      <td>1.006536</td>\n",
       "      <td>1.001634</td>\n",
       "      <td>1.003430</td>\n",
       "      <td>1.009372</td>\n",
       "    </tr>\n",
       "    <tr>\n",
       "      <th>4</th>\n",
       "      <td>1.008104</td>\n",
       "      <td>0.993979</td>\n",
       "      <td>1.004589</td>\n",
       "      <td>0.988956</td>\n",
       "      <td>0.993069</td>\n",
       "      <td>0.994631</td>\n",
       "      <td>1.001547</td>\n",
       "      <td>0.989649</td>\n",
       "      <td>1.008386</td>\n",
       "      <td>1.000821</td>\n",
       "      <td>...</td>\n",
       "      <td>1.001241</td>\n",
       "      <td>1.004040</td>\n",
       "      <td>0.993542</td>\n",
       "      <td>0.997074</td>\n",
       "      <td>1.004645</td>\n",
       "      <td>1.004526</td>\n",
       "      <td>1.008561</td>\n",
       "      <td>1.001601</td>\n",
       "      <td>1.005385</td>\n",
       "      <td>1.011237</td>\n",
       "    </tr>\n",
       "    <tr>\n",
       "      <th>...</th>\n",
       "      <td>...</td>\n",
       "      <td>...</td>\n",
       "      <td>...</td>\n",
       "      <td>...</td>\n",
       "      <td>...</td>\n",
       "      <td>...</td>\n",
       "      <td>...</td>\n",
       "      <td>...</td>\n",
       "      <td>...</td>\n",
       "      <td>...</td>\n",
       "      <td>...</td>\n",
       "      <td>...</td>\n",
       "      <td>...</td>\n",
       "      <td>...</td>\n",
       "      <td>...</td>\n",
       "      <td>...</td>\n",
       "      <td>...</td>\n",
       "      <td>...</td>\n",
       "      <td>...</td>\n",
       "      <td>...</td>\n",
       "      <td>...</td>\n",
       "    </tr>\n",
       "    <tr>\n",
       "      <th>2516</th>\n",
       "      <td>0.567272</td>\n",
       "      <td>0.716371</td>\n",
       "      <td>0.631111</td>\n",
       "      <td>0.654403</td>\n",
       "      <td>0.849744</td>\n",
       "      <td>0.729904</td>\n",
       "      <td>0.721058</td>\n",
       "      <td>0.665922</td>\n",
       "      <td>0.710656</td>\n",
       "      <td>0.725886</td>\n",
       "      <td>...</td>\n",
       "      <td>0.739921</td>\n",
       "      <td>0.831842</td>\n",
       "      <td>0.631896</td>\n",
       "      <td>0.813704</td>\n",
       "      <td>0.751720</td>\n",
       "      <td>0.946578</td>\n",
       "      <td>0.967872</td>\n",
       "      <td>0.744173</td>\n",
       "      <td>0.842001</td>\n",
       "      <td>0.748592</td>\n",
       "    </tr>\n",
       "    <tr>\n",
       "      <th>2517</th>\n",
       "      <td>0.567409</td>\n",
       "      <td>0.719081</td>\n",
       "      <td>0.630250</td>\n",
       "      <td>0.656583</td>\n",
       "      <td>0.853480</td>\n",
       "      <td>0.727714</td>\n",
       "      <td>0.719144</td>\n",
       "      <td>0.666241</td>\n",
       "      <td>0.709806</td>\n",
       "      <td>0.722964</td>\n",
       "      <td>...</td>\n",
       "      <td>0.736790</td>\n",
       "      <td>0.831725</td>\n",
       "      <td>0.635114</td>\n",
       "      <td>0.812990</td>\n",
       "      <td>0.750591</td>\n",
       "      <td>0.947035</td>\n",
       "      <td>0.966909</td>\n",
       "      <td>0.740690</td>\n",
       "      <td>0.838274</td>\n",
       "      <td>0.752559</td>\n",
       "    </tr>\n",
       "    <tr>\n",
       "      <th>2518</th>\n",
       "      <td>0.569823</td>\n",
       "      <td>0.717580</td>\n",
       "      <td>0.631524</td>\n",
       "      <td>0.656248</td>\n",
       "      <td>0.853582</td>\n",
       "      <td>0.727720</td>\n",
       "      <td>0.720615</td>\n",
       "      <td>0.666731</td>\n",
       "      <td>0.711167</td>\n",
       "      <td>0.723593</td>\n",
       "      <td>...</td>\n",
       "      <td>0.739478</td>\n",
       "      <td>0.829987</td>\n",
       "      <td>0.633627</td>\n",
       "      <td>0.810293</td>\n",
       "      <td>0.750205</td>\n",
       "      <td>0.947882</td>\n",
       "      <td>0.969928</td>\n",
       "      <td>0.738609</td>\n",
       "      <td>0.837824</td>\n",
       "      <td>0.751894</td>\n",
       "    </tr>\n",
       "    <tr>\n",
       "      <th>2519</th>\n",
       "      <td>0.567199</td>\n",
       "      <td>0.719657</td>\n",
       "      <td>0.629839</td>\n",
       "      <td>0.654370</td>\n",
       "      <td>0.854239</td>\n",
       "      <td>0.728012</td>\n",
       "      <td>0.718992</td>\n",
       "      <td>0.668176</td>\n",
       "      <td>0.711317</td>\n",
       "      <td>0.720643</td>\n",
       "      <td>...</td>\n",
       "      <td>0.739646</td>\n",
       "      <td>0.829151</td>\n",
       "      <td>0.630456</td>\n",
       "      <td>0.810401</td>\n",
       "      <td>0.753714</td>\n",
       "      <td>0.951050</td>\n",
       "      <td>0.971269</td>\n",
       "      <td>0.739524</td>\n",
       "      <td>0.836212</td>\n",
       "      <td>0.753626</td>\n",
       "    </tr>\n",
       "    <tr>\n",
       "      <th>2520</th>\n",
       "      <td>0.567066</td>\n",
       "      <td>0.717798</td>\n",
       "      <td>0.629087</td>\n",
       "      <td>0.655122</td>\n",
       "      <td>0.853072</td>\n",
       "      <td>0.728101</td>\n",
       "      <td>0.718597</td>\n",
       "      <td>0.667681</td>\n",
       "      <td>0.713517</td>\n",
       "      <td>0.722814</td>\n",
       "      <td>...</td>\n",
       "      <td>0.741237</td>\n",
       "      <td>0.830255</td>\n",
       "      <td>0.627112</td>\n",
       "      <td>0.812942</td>\n",
       "      <td>0.753566</td>\n",
       "      <td>0.951838</td>\n",
       "      <td>0.971468</td>\n",
       "      <td>0.743652</td>\n",
       "      <td>0.837524</td>\n",
       "      <td>0.757428</td>\n",
       "    </tr>\n",
       "  </tbody>\n",
       "</table>\n",
       "<p>2521 rows × 500 columns</p>\n",
       "</div>"
      ],
      "text/plain": [
       "           0         1         2         3         4         5         6    \\\n",
       "0     1.000000  1.000000  1.000000  1.000000  1.000000  1.000000  1.000000   \n",
       "1     1.007497  0.995016  1.004059  1.003246  0.997300  0.998693  1.000185   \n",
       "2     1.002263  0.995093  1.002466  1.001932  0.995823  0.996732  1.002142   \n",
       "3     1.005127  0.995843  1.003469  0.993547  0.996078  0.993977  1.002578   \n",
       "4     1.008104  0.993979  1.004589  0.988956  0.993069  0.994631  1.001547   \n",
       "...        ...       ...       ...       ...       ...       ...       ...   \n",
       "2516  0.567272  0.716371  0.631111  0.654403  0.849744  0.729904  0.721058   \n",
       "2517  0.567409  0.719081  0.630250  0.656583  0.853480  0.727714  0.719144   \n",
       "2518  0.569823  0.717580  0.631524  0.656248  0.853582  0.727720  0.720615   \n",
       "2519  0.567199  0.719657  0.629839  0.654370  0.854239  0.728012  0.718992   \n",
       "2520  0.567066  0.717798  0.629087  0.655122  0.853072  0.728101  0.718597   \n",
       "\n",
       "           7         8         9    ...       490       491       492  \\\n",
       "0     1.000000  1.000000  1.000000  ...  1.000000  1.000000  1.000000   \n",
       "1     1.001098  1.000008  0.999136  ...  0.999457  0.999898  0.997096   \n",
       "2     1.000995  1.003852  0.999912  ...  0.999511  1.000344  0.996822   \n",
       "3     0.995590  1.007593  0.997790  ...  1.001083  1.003008  0.992802   \n",
       "4     0.989649  1.008386  1.000821  ...  1.001241  1.004040  0.993542   \n",
       "...        ...       ...       ...  ...       ...       ...       ...   \n",
       "2516  0.665922  0.710656  0.725886  ...  0.739921  0.831842  0.631896   \n",
       "2517  0.666241  0.709806  0.722964  ...  0.736790  0.831725  0.635114   \n",
       "2518  0.666731  0.711167  0.723593  ...  0.739478  0.829987  0.633627   \n",
       "2519  0.668176  0.711317  0.720643  ...  0.739646  0.829151  0.630456   \n",
       "2520  0.667681  0.713517  0.722814  ...  0.741237  0.830255  0.627112   \n",
       "\n",
       "           493       494       495       496       497       498       499  \n",
       "0     1.000000  1.000000  1.000000  1.000000  1.000000  1.000000  1.000000  \n",
       "1     1.000452  1.001227  1.001511  1.005714  1.000729  0.999971  1.005412  \n",
       "2     0.997333  1.001384  1.004726  1.004105  1.001596  1.002374  1.006141  \n",
       "3     0.996266  1.005358  1.004953  1.006536  1.001634  1.003430  1.009372  \n",
       "4     0.997074  1.004645  1.004526  1.008561  1.001601  1.005385  1.011237  \n",
       "...        ...       ...       ...       ...       ...       ...       ...  \n",
       "2516  0.813704  0.751720  0.946578  0.967872  0.744173  0.842001  0.748592  \n",
       "2517  0.812990  0.750591  0.947035  0.966909  0.740690  0.838274  0.752559  \n",
       "2518  0.810293  0.750205  0.947882  0.969928  0.738609  0.837824  0.751894  \n",
       "2519  0.810401  0.753714  0.951050  0.971269  0.739524  0.836212  0.753626  \n",
       "2520  0.812942  0.753566  0.951838  0.971468  0.743652  0.837524  0.757428  \n",
       "\n",
       "[2521 rows x 500 columns]"
      ]
     },
     "execution_count": 75,
     "metadata": {},
     "output_type": "execute_result"
    }
   ],
   "source": [
    "# Run the Monte Carlo simulation to forecast 10 years cumulative returns\n",
    "MC_10_weight.calc_cumulative_return()"
   ]
  },
  {
   "cell_type": "code",
   "execution_count": 76,
   "metadata": {},
   "outputs": [
    {
     "data": {
      "image/png": "[encoded data removed]",
      "text/plain": [
       "<Figure size 432x288 with 1 Axes>"
      ]
     },
     "metadata": {
      "needs_background": "light"
     },
     "output_type": "display_data"
    }
   ],
   "source": [
    "# Visualize the 10-year Monte Carlo simulation by creating an\n",
    "# overlay line plot\n",
    "MC_weight_line_10_plot = MC_10_weight.plot_simulation()"
   ]
  },
  {
   "cell_type": "code",
   "execution_count": 77,
   "metadata": {},
   "outputs": [
    {
     "data": {
      "image/png": "[encoded data removed]",
      "text/plain": [
       "<Figure size 432x288 with 1 Axes>"
      ]
     },
     "metadata": {
      "needs_background": "light"
     },
     "output_type": "display_data"
    }
   ],
   "source": [
    "# Visualize the probability distribution of the 10-year Monte Carlo simulation \n",
    "# by plotting a histogram\n",
    "MC_weight_distribution_10_plot = MC_10_weight.plot_distribution()"
   ]
  },
  {
   "cell_type": "code",
   "execution_count": 78,
   "metadata": {},
   "outputs": [
    {
     "data": {
      "text/plain": [
       "count           500.000000\n",
       "mean              0.766203\n",
       "std               0.091105\n",
       "min               0.500580\n",
       "25%               0.708780\n",
       "50%               0.761862\n",
       "75%               0.820248\n",
       "max               1.146766\n",
       "95% CI Lower      0.595417\n",
       "95% CI Upper      0.971397\n",
       "Name: 2520, dtype: float64"
      ]
     },
     "execution_count": 78,
     "metadata": {},
     "output_type": "execute_result"
    }
   ],
   "source": [
    "# Generate summary statistics from the 10-year Monte Carlo simulation results\n",
    "# Save the results as a variable\n",
    "MC_weight_10_table = MC_10_weight.summarize_cumulative_return()\n",
    "\n",
    "\n",
    "# Review the 10-year Monte Carlo summary statistics\n",
    "MC_weight_10_table"
   ]
  },
  {
   "cell_type": "markdown",
   "metadata": {},
   "source": [
    "### Answer the following questions:"
   ]
  },
  {
   "cell_type": "markdown",
   "metadata": {},
   "source": [
    "#### Question: Using the current value of only the stock and bond portion of the member's portfolio and the summary statistics that you generated from the new Monte Carlo simulation, what are the lower and upper bounds for the expected value of the portfolio (with the new weights) with a 95% confidence interval?"
   ]
  },
  {
   "cell_type": "code",
   "execution_count": 79,
   "metadata": {},
   "outputs": [
    {
     "name": "stdout",
     "output_type": "stream",
     "text": [
      "The value for stocks and bonds in this portfolio is $72036.6\n"
     ]
    }
   ],
   "source": [
    "# Print the current balance of the stock and bond portion of the members portfolio\n",
    "print(f\"The value for stocks and bonds in this portfolio is ${total_stocks_bonds}\")"
   ]
  },
  {
   "cell_type": "code",
   "execution_count": 80,
   "metadata": {},
   "outputs": [
    {
     "name": "stdout",
     "output_type": "stream",
     "text": [
      "There is a 95% chance that this portfolio will range between $42891.83 and $69976.12.\n"
     ]
    }
   ],
   "source": [
    "# Use the lower and upper `95%` confidence intervals to calculate the range of the possible outcomes for the current stock/bond portfolio\n",
    "ci_lower_ten_cumulative_return = round(MC_weight_10_table[8]*total_stocks_bonds,2)\n",
    "ci_upper_ten_cumulative_return = round(MC_weight_10_table[9]*total_stocks_bonds,2)\n",
    "\n",
    "\n",
    "# Print the result of your calculations\n",
    "print(f\"There is a 95% chance that this portfolio will range between\"\n",
    "           f\" ${ci_lower_ten_cumulative_return} and ${ci_upper_ten_cumulative_return}.\")\n"
   ]
  },
  {
   "cell_type": "markdown",
   "metadata": {},
   "source": [
    "#### Question: Will weighting the portfolio more heavily to stocks allow the credit union members to retire after only 10 years?"
   ]
  },
  {
   "cell_type": "raw",
   "metadata": {},
   "source": [
    "**Answer** # YOUR ANSWER HERE"
   ]
  },
  {
   "cell_type": "code",
   "execution_count": null,
   "metadata": {},
   "outputs": [],
   "source": []
  }
 ],
 "metadata": {
  "kernelspec": {
   "display_name": "Python 3 (ipykernel)",
   "language": "python",
   "name": "python3"
  },
  "language_info": {
   "codemirror_mode": {
    "name": "ipython",
    "version": 3
   },
   "file_extension": ".py",
   "mimetype": "text/x-python",
   "name": "python",
   "nbconvert_exporter": "python",
   "pygments_lexer": "ipython3",
   "version": "3.9.7"
  }
 },
 "nbformat": 4,
 "nbformat_minor": 4
}
